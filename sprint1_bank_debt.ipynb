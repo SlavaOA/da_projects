{
 "cells": [
  {
   "cell_type": "markdown",
   "metadata": {},
   "source": [
    "## Исследование надёжности заёмщиков\n",
    "\n",
    "Заказчик — кредитный отдел банка. Нужно разобраться, влияет ли семейное положение и количество детей клиента на факт погашения кредита в срок. Входные данные от банка — статистика о платёжеспособности клиентов.\n",
    "\n",
    "Результаты исследования будут учтены при построении модели **кредитного скоринга** — специальной системы, которая оценивает способность потенциального заёмщика вернуть кредит банку."
   ]
  },
  {
   "cell_type": "markdown",
   "metadata": {},
   "source": [
    "### Шаг 1. Откройте файл с данными и изучите общую информацию. "
   ]
  },
  {
   "cell_type": "markdown",
   "metadata": {},
   "source": [
    "Импортируем библиотеку pandas, импортируем модуль pymystem3 и Counter из collections и прочитаем файл с исходными данными. Сохраним файл в переменной df."
   ]
  },
  {
   "cell_type": "code",
   "execution_count": 1,
   "metadata": {},
   "outputs": [],
   "source": [
    "import pandas as pd\n",
    "#!pip install pymystem3\n",
    "from pymystem3 import Mystem\n",
    "from collections import Counter\n",
    "df = pd.read_csv('data.csv')"
   ]
  },
  {
   "cell_type": "markdown",
   "metadata": {},
   "source": [
    "Получим общую информацию о данных."
   ]
  },
  {
   "cell_type": "code",
   "execution_count": 2,
   "metadata": {},
   "outputs": [
    {
     "name": "stdout",
     "output_type": "stream",
     "text": [
      "<class 'pandas.core.frame.DataFrame'>\n",
      "RangeIndex: 21525 entries, 0 to 21524\n",
      "Data columns (total 12 columns):\n",
      " #   Column            Non-Null Count  Dtype  \n",
      "---  ------            --------------  -----  \n",
      " 0   children          21525 non-null  int64  \n",
      " 1   days_employed     19351 non-null  float64\n",
      " 2   dob_years         21525 non-null  int64  \n",
      " 3   education         21525 non-null  object \n",
      " 4   education_id      21525 non-null  int64  \n",
      " 5   family_status     21525 non-null  object \n",
      " 6   family_status_id  21525 non-null  int64  \n",
      " 7   gender            21525 non-null  object \n",
      " 8   income_type       21525 non-null  object \n",
      " 9   debt              21525 non-null  int64  \n",
      " 10  total_income      19351 non-null  float64\n",
      " 11  purpose           21525 non-null  object \n",
      "dtypes: float64(2), int64(5), object(5)\n",
      "memory usage: 2.0+ MB\n"
     ]
    }
   ],
   "source": [
    "df.info()"
   ]
  },
  {
   "cell_type": "markdown",
   "metadata": {},
   "source": [
    "Мы обнаружили, что пропущено одинаковое количество значения в столбцах days_employed и total_income.\n",
    "Рассмотрим все столбцы и их типы данных:\n",
    "* children — количество детей в семье - int;\n",
    "\n",
    "* days_employed — общий трудовой стаж в днях - float;\n",
    "\n",
    "* dob_years — возраст клиента в годах - int;\n",
    "\n",
    "* education — уровень образования клиента - object;\n",
    "\n",
    "* education_id — идентификатор уровня образования - int;\n",
    "\n",
    "* family_status — семейное положение - object;\n",
    "\n",
    "* family_status_id — идентификатор семейного положения - int;\n",
    "\n",
    "* gender — пол клиента - object;\n",
    "\n",
    "* income_type — тип занятости - object;\n",
    "\n",
    "* debt — имел ли задолженность по возврату кредитов - int;\n",
    "\n",
    "* total_income — ежемесячный доход - float;\n",
    "\n",
    "* purpose — цель получения кредита - object.\n",
    "\n"
   ]
  },
  {
   "cell_type": "markdown",
   "metadata": {},
   "source": [
    "Выведем первые десять строк таблицы."
   ]
  },
  {
   "cell_type": "code",
   "execution_count": 3,
   "metadata": {},
   "outputs": [
    {
     "data": {
      "text/html": [
       "<div>\n",
       "<style scoped>\n",
       "    .dataframe tbody tr th:only-of-type {\n",
       "        vertical-align: middle;\n",
       "    }\n",
       "\n",
       "    .dataframe tbody tr th {\n",
       "        vertical-align: top;\n",
       "    }\n",
       "\n",
       "    .dataframe thead th {\n",
       "        text-align: right;\n",
       "    }\n",
       "</style>\n",
       "<table border=\"1\" class=\"dataframe\">\n",
       "  <thead>\n",
       "    <tr style=\"text-align: right;\">\n",
       "      <th></th>\n",
       "      <th>children</th>\n",
       "      <th>days_employed</th>\n",
       "      <th>dob_years</th>\n",
       "      <th>education</th>\n",
       "      <th>education_id</th>\n",
       "      <th>family_status</th>\n",
       "      <th>family_status_id</th>\n",
       "      <th>gender</th>\n",
       "      <th>income_type</th>\n",
       "      <th>debt</th>\n",
       "      <th>total_income</th>\n",
       "      <th>purpose</th>\n",
       "    </tr>\n",
       "  </thead>\n",
       "  <tbody>\n",
       "    <tr>\n",
       "      <th>0</th>\n",
       "      <td>1</td>\n",
       "      <td>-8437.673028</td>\n",
       "      <td>42</td>\n",
       "      <td>высшее</td>\n",
       "      <td>0</td>\n",
       "      <td>женат / замужем</td>\n",
       "      <td>0</td>\n",
       "      <td>F</td>\n",
       "      <td>сотрудник</td>\n",
       "      <td>0</td>\n",
       "      <td>253875.639453</td>\n",
       "      <td>покупка жилья</td>\n",
       "    </tr>\n",
       "    <tr>\n",
       "      <th>1</th>\n",
       "      <td>1</td>\n",
       "      <td>-4024.803754</td>\n",
       "      <td>36</td>\n",
       "      <td>среднее</td>\n",
       "      <td>1</td>\n",
       "      <td>женат / замужем</td>\n",
       "      <td>0</td>\n",
       "      <td>F</td>\n",
       "      <td>сотрудник</td>\n",
       "      <td>0</td>\n",
       "      <td>112080.014102</td>\n",
       "      <td>приобретение автомобиля</td>\n",
       "    </tr>\n",
       "    <tr>\n",
       "      <th>2</th>\n",
       "      <td>0</td>\n",
       "      <td>-5623.422610</td>\n",
       "      <td>33</td>\n",
       "      <td>Среднее</td>\n",
       "      <td>1</td>\n",
       "      <td>женат / замужем</td>\n",
       "      <td>0</td>\n",
       "      <td>M</td>\n",
       "      <td>сотрудник</td>\n",
       "      <td>0</td>\n",
       "      <td>145885.952297</td>\n",
       "      <td>покупка жилья</td>\n",
       "    </tr>\n",
       "    <tr>\n",
       "      <th>3</th>\n",
       "      <td>3</td>\n",
       "      <td>-4124.747207</td>\n",
       "      <td>32</td>\n",
       "      <td>среднее</td>\n",
       "      <td>1</td>\n",
       "      <td>женат / замужем</td>\n",
       "      <td>0</td>\n",
       "      <td>M</td>\n",
       "      <td>сотрудник</td>\n",
       "      <td>0</td>\n",
       "      <td>267628.550329</td>\n",
       "      <td>дополнительное образование</td>\n",
       "    </tr>\n",
       "    <tr>\n",
       "      <th>4</th>\n",
       "      <td>0</td>\n",
       "      <td>340266.072047</td>\n",
       "      <td>53</td>\n",
       "      <td>среднее</td>\n",
       "      <td>1</td>\n",
       "      <td>гражданский брак</td>\n",
       "      <td>1</td>\n",
       "      <td>F</td>\n",
       "      <td>пенсионер</td>\n",
       "      <td>0</td>\n",
       "      <td>158616.077870</td>\n",
       "      <td>сыграть свадьбу</td>\n",
       "    </tr>\n",
       "    <tr>\n",
       "      <th>5</th>\n",
       "      <td>0</td>\n",
       "      <td>-926.185831</td>\n",
       "      <td>27</td>\n",
       "      <td>высшее</td>\n",
       "      <td>0</td>\n",
       "      <td>гражданский брак</td>\n",
       "      <td>1</td>\n",
       "      <td>M</td>\n",
       "      <td>компаньон</td>\n",
       "      <td>0</td>\n",
       "      <td>255763.565419</td>\n",
       "      <td>покупка жилья</td>\n",
       "    </tr>\n",
       "    <tr>\n",
       "      <th>6</th>\n",
       "      <td>0</td>\n",
       "      <td>-2879.202052</td>\n",
       "      <td>43</td>\n",
       "      <td>высшее</td>\n",
       "      <td>0</td>\n",
       "      <td>женат / замужем</td>\n",
       "      <td>0</td>\n",
       "      <td>F</td>\n",
       "      <td>компаньон</td>\n",
       "      <td>0</td>\n",
       "      <td>240525.971920</td>\n",
       "      <td>операции с жильем</td>\n",
       "    </tr>\n",
       "    <tr>\n",
       "      <th>7</th>\n",
       "      <td>0</td>\n",
       "      <td>-152.779569</td>\n",
       "      <td>50</td>\n",
       "      <td>СРЕДНЕЕ</td>\n",
       "      <td>1</td>\n",
       "      <td>женат / замужем</td>\n",
       "      <td>0</td>\n",
       "      <td>M</td>\n",
       "      <td>сотрудник</td>\n",
       "      <td>0</td>\n",
       "      <td>135823.934197</td>\n",
       "      <td>образование</td>\n",
       "    </tr>\n",
       "    <tr>\n",
       "      <th>8</th>\n",
       "      <td>2</td>\n",
       "      <td>-6929.865299</td>\n",
       "      <td>35</td>\n",
       "      <td>ВЫСШЕЕ</td>\n",
       "      <td>0</td>\n",
       "      <td>гражданский брак</td>\n",
       "      <td>1</td>\n",
       "      <td>F</td>\n",
       "      <td>сотрудник</td>\n",
       "      <td>0</td>\n",
       "      <td>95856.832424</td>\n",
       "      <td>на проведение свадьбы</td>\n",
       "    </tr>\n",
       "    <tr>\n",
       "      <th>9</th>\n",
       "      <td>0</td>\n",
       "      <td>-2188.756445</td>\n",
       "      <td>41</td>\n",
       "      <td>среднее</td>\n",
       "      <td>1</td>\n",
       "      <td>женат / замужем</td>\n",
       "      <td>0</td>\n",
       "      <td>M</td>\n",
       "      <td>сотрудник</td>\n",
       "      <td>0</td>\n",
       "      <td>144425.938277</td>\n",
       "      <td>покупка жилья для семьи</td>\n",
       "    </tr>\n",
       "  </tbody>\n",
       "</table>\n",
       "</div>"
      ],
      "text/plain": [
       "   children  days_employed  dob_years education  education_id  \\\n",
       "0         1   -8437.673028         42    высшее             0   \n",
       "1         1   -4024.803754         36   среднее             1   \n",
       "2         0   -5623.422610         33   Среднее             1   \n",
       "3         3   -4124.747207         32   среднее             1   \n",
       "4         0  340266.072047         53   среднее             1   \n",
       "5         0    -926.185831         27    высшее             0   \n",
       "6         0   -2879.202052         43    высшее             0   \n",
       "7         0    -152.779569         50   СРЕДНЕЕ             1   \n",
       "8         2   -6929.865299         35    ВЫСШЕЕ             0   \n",
       "9         0   -2188.756445         41   среднее             1   \n",
       "\n",
       "      family_status  family_status_id gender income_type  debt   total_income  \\\n",
       "0   женат / замужем                 0      F   сотрудник     0  253875.639453   \n",
       "1   женат / замужем                 0      F   сотрудник     0  112080.014102   \n",
       "2   женат / замужем                 0      M   сотрудник     0  145885.952297   \n",
       "3   женат / замужем                 0      M   сотрудник     0  267628.550329   \n",
       "4  гражданский брак                 1      F   пенсионер     0  158616.077870   \n",
       "5  гражданский брак                 1      M   компаньон     0  255763.565419   \n",
       "6   женат / замужем                 0      F   компаньон     0  240525.971920   \n",
       "7   женат / замужем                 0      M   сотрудник     0  135823.934197   \n",
       "8  гражданский брак                 1      F   сотрудник     0   95856.832424   \n",
       "9   женат / замужем                 0      M   сотрудник     0  144425.938277   \n",
       "\n",
       "                      purpose  \n",
       "0               покупка жилья  \n",
       "1     приобретение автомобиля  \n",
       "2               покупка жилья  \n",
       "3  дополнительное образование  \n",
       "4             сыграть свадьбу  \n",
       "5               покупка жилья  \n",
       "6           операции с жильем  \n",
       "7                 образование  \n",
       "8       на проведение свадьбы  \n",
       "9     покупка жилья для семьи  "
      ]
     },
     "execution_count": 3,
     "metadata": {},
     "output_type": "execute_result"
    }
   ],
   "source": [
    "df.head(10)"
   ]
  },
  {
   "cell_type": "markdown",
   "metadata": {},
   "source": [
    "В столбце days_employed мы видим некорректные данные - есть отрицательные значений, а также значения с очень большим количеством дней, это может быть связано с тем, что эти данные загодированы по какой-то системе или с тем? что они ошибочные, данные из этого столбца будут проигнорированы и не будут принимать участие в анализе - для ответа на поставленные вопросы эти данные не потребуются. Также в столбце education есть дубликаты данных - одинаковые данные внесены в разных регистрах. "
   ]
  },
  {
   "cell_type": "markdown",
   "metadata": {},
   "source": [
    "Предположим, что пропущенные данные в столбце total_income и days_employed связаны с тем, что клиент является безработным и не имеет дохода и стажа работы. Выведем на экран список уникальных типов занятости для клиентов без дохода total_income."
   ]
  },
  {
   "cell_type": "code",
   "execution_count": 4,
   "metadata": {},
   "outputs": [
    {
     "data": {
      "text/plain": [
       "array(['пенсионер', 'госслужащий', 'компаньон', 'сотрудник',\n",
       "       'предприниматель'], dtype=object)"
      ]
     },
     "execution_count": 4,
     "metadata": {},
     "output_type": "execute_result"
    }
   ],
   "source": [
    "df['income_type'][df['total_income'].isnull()].unique()"
   ]
  },
  {
   "cell_type": "markdown",
   "metadata": {},
   "source": [
    "Как оказалось отстутвие данных по доходам как раз не у безработных людей, а у людей с доходом. Наша гипотеза не подтвердилась, это означает, что нам предстоит заполнить пропуски в этом столбце."
   ]
  },
  {
   "cell_type": "markdown",
   "metadata": {},
   "source": [
    "Сосчитаем строки в которых одновременно пропущены значения и в столбце days_employed и total_income. "
   ]
  },
  {
   "cell_type": "code",
   "execution_count": 5,
   "metadata": {},
   "outputs": [
    {
     "data": {
      "text/plain": [
       "children            2174\n",
       "days_employed          0\n",
       "dob_years           2174\n",
       "education           2174\n",
       "education_id        2174\n",
       "family_status       2174\n",
       "family_status_id    2174\n",
       "gender              2174\n",
       "income_type         2174\n",
       "debt                2174\n",
       "total_income           0\n",
       "purpose             2174\n",
       "dtype: int64"
      ]
     },
     "execution_count": 5,
     "metadata": {},
     "output_type": "execute_result"
    }
   ],
   "source": [
    "df[(df['days_employed'].isnull()) & (df['total_income'].isnull())].count()"
   ]
  },
  {
   "cell_type": "markdown",
   "metadata": {},
   "source": [
    "2174 строки в которых одновременно пропущены значения в обоих столбцах. Это означает, что данные пропущены у одних и тех же строк. Скорее всего отсутсвие этих данных говорит о том, что эти данные не были получены от клиента или у банка нет доступа к расчету поступлений на расчетнй счет клиента (например доходы клиент получает на счет в другой банк)."
   ]
  },
  {
   "cell_type": "markdown",
   "metadata": {},
   "source": [
    "### Вывод"
   ]
  },
  {
   "cell_type": "markdown",
   "metadata": {},
   "source": [
    "Исходные данные содержат информацию о клиентах банка и об их кредитной истории (имел ли клиент задолженность по возврату кредитов или нет).\n",
    "В таблице содержится 12 столбцов и 21525 строк. Пропущено 2174 значения одновременно по двум столбцам days_employed и total_income.\n",
    "Нам предстоит заполнить пропущенные значения и найти дубликаты. А так же предстоит найти ошибки в данных."
   ]
  },
  {
   "cell_type": "markdown",
   "metadata": {},
   "source": [
    "### Шаг 2. Предобработка данных"
   ]
  },
  {
   "cell_type": "markdown",
   "metadata": {},
   "source": [
    "### Обработка пропусков"
   ]
  },
  {
   "cell_type": "markdown",
   "metadata": {},
   "source": [
    "Заполним пропуски в столбце total_income с группировкой по нескольким переменным."
   ]
  },
  {
   "cell_type": "markdown",
   "metadata": {},
   "source": [
    "Создадим переменную medians в которой сохраним таблицу сгрупированную по столбцам gedner, education_id, income_type и применим метод agg(), который будет рассчитывать медианное значение по ключу total_income."
   ]
  },
  {
   "cell_type": "code",
   "execution_count": 6,
   "metadata": {},
   "outputs": [
    {
     "name": "stdout",
     "output_type": "stream",
     "text": [
      "Количество пропусков в total_income до замены: 2174\n"
     ]
    }
   ],
   "source": [
    "print('Количество пропусков в total_income до замены:', df['total_income'].isna().sum())"
   ]
  },
  {
   "cell_type": "code",
   "execution_count": 7,
   "metadata": {},
   "outputs": [],
   "source": [
    "medians = (df.groupby(['gender', 'education_id', 'income_type']).agg({'total_income': 'median'}).rename(columns = {'total_income':'total_income_median'}))\n",
    "df = df.merge(medians, on = ['gender', 'education_id', 'income_type'], how = 'left')\n",
    "df.loc[df['total_income'].isna(), 'total_income'] = df['total_income_median']"
   ]
  },
  {
   "cell_type": "code",
   "execution_count": 8,
   "metadata": {},
   "outputs": [
    {
     "name": "stdout",
     "output_type": "stream",
     "text": [
      "Количество пропусков в total_income после замены: 1\n"
     ]
    }
   ],
   "source": [
    "print('Количество пропусков в total_income после замены:', df['total_income'].isna().sum())"
   ]
  },
  {
   "cell_type": "markdown",
   "metadata": {},
   "source": [
    "Проверим в какой строке осталось пустое значение, выведем её на экран."
   ]
  },
  {
   "cell_type": "code",
   "execution_count": 9,
   "metadata": {},
   "outputs": [
    {
     "data": {
      "text/html": [
       "<div>\n",
       "<style scoped>\n",
       "    .dataframe tbody tr th:only-of-type {\n",
       "        vertical-align: middle;\n",
       "    }\n",
       "\n",
       "    .dataframe tbody tr th {\n",
       "        vertical-align: top;\n",
       "    }\n",
       "\n",
       "    .dataframe thead th {\n",
       "        text-align: right;\n",
       "    }\n",
       "</style>\n",
       "<table border=\"1\" class=\"dataframe\">\n",
       "  <thead>\n",
       "    <tr style=\"text-align: right;\">\n",
       "      <th></th>\n",
       "      <th>children</th>\n",
       "      <th>days_employed</th>\n",
       "      <th>dob_years</th>\n",
       "      <th>education</th>\n",
       "      <th>education_id</th>\n",
       "      <th>family_status</th>\n",
       "      <th>family_status_id</th>\n",
       "      <th>gender</th>\n",
       "      <th>income_type</th>\n",
       "      <th>debt</th>\n",
       "      <th>total_income</th>\n",
       "      <th>purpose</th>\n",
       "      <th>total_income_median</th>\n",
       "    </tr>\n",
       "  </thead>\n",
       "  <tbody>\n",
       "    <tr>\n",
       "      <th>5936</th>\n",
       "      <td>0</td>\n",
       "      <td>NaN</td>\n",
       "      <td>58</td>\n",
       "      <td>высшее</td>\n",
       "      <td>0</td>\n",
       "      <td>женат / замужем</td>\n",
       "      <td>0</td>\n",
       "      <td>M</td>\n",
       "      <td>предприниматель</td>\n",
       "      <td>0</td>\n",
       "      <td>NaN</td>\n",
       "      <td>покупка жилой недвижимости</td>\n",
       "      <td>NaN</td>\n",
       "    </tr>\n",
       "  </tbody>\n",
       "</table>\n",
       "</div>"
      ],
      "text/plain": [
       "      children  days_employed  dob_years education  education_id  \\\n",
       "5936         0            NaN         58    высшее             0   \n",
       "\n",
       "        family_status  family_status_id gender      income_type  debt  \\\n",
       "5936  женат / замужем                 0      M  предприниматель     0   \n",
       "\n",
       "      total_income                     purpose  total_income_median  \n",
       "5936           NaN  покупка жилой недвижимости                  NaN  "
      ]
     },
     "execution_count": 9,
     "metadata": {},
     "output_type": "execute_result"
    }
   ],
   "source": [
    "df[df['total_income'].isna()]"
   ]
  },
  {
   "cell_type": "markdown",
   "metadata": {},
   "source": [
    "Мы группировали наши данные по трем метрикам - образование, пол и вид деятельности. Проверим сколько в наших данных есть предпринимателей, мужчин с высшим образованием."
   ]
  },
  {
   "cell_type": "code",
   "execution_count": 10,
   "metadata": {},
   "outputs": [
    {
     "data": {
      "text/html": [
       "<div>\n",
       "<style scoped>\n",
       "    .dataframe tbody tr th:only-of-type {\n",
       "        vertical-align: middle;\n",
       "    }\n",
       "\n",
       "    .dataframe tbody tr th {\n",
       "        vertical-align: top;\n",
       "    }\n",
       "\n",
       "    .dataframe thead th {\n",
       "        text-align: right;\n",
       "    }\n",
       "</style>\n",
       "<table border=\"1\" class=\"dataframe\">\n",
       "  <thead>\n",
       "    <tr style=\"text-align: right;\">\n",
       "      <th></th>\n",
       "      <th>children</th>\n",
       "      <th>days_employed</th>\n",
       "      <th>dob_years</th>\n",
       "      <th>education</th>\n",
       "      <th>education_id</th>\n",
       "      <th>family_status</th>\n",
       "      <th>family_status_id</th>\n",
       "      <th>gender</th>\n",
       "      <th>income_type</th>\n",
       "      <th>debt</th>\n",
       "      <th>total_income</th>\n",
       "      <th>purpose</th>\n",
       "      <th>total_income_median</th>\n",
       "    </tr>\n",
       "  </thead>\n",
       "  <tbody>\n",
       "    <tr>\n",
       "      <th>5936</th>\n",
       "      <td>0</td>\n",
       "      <td>NaN</td>\n",
       "      <td>58</td>\n",
       "      <td>высшее</td>\n",
       "      <td>0</td>\n",
       "      <td>женат / замужем</td>\n",
       "      <td>0</td>\n",
       "      <td>M</td>\n",
       "      <td>предприниматель</td>\n",
       "      <td>0</td>\n",
       "      <td>NaN</td>\n",
       "      <td>покупка жилой недвижимости</td>\n",
       "      <td>NaN</td>\n",
       "    </tr>\n",
       "  </tbody>\n",
       "</table>\n",
       "</div>"
      ],
      "text/plain": [
       "      children  days_employed  dob_years education  education_id  \\\n",
       "5936         0            NaN         58    высшее             0   \n",
       "\n",
       "        family_status  family_status_id gender      income_type  debt  \\\n",
       "5936  женат / замужем                 0      M  предприниматель     0   \n",
       "\n",
       "      total_income                     purpose  total_income_median  \n",
       "5936           NaN  покупка жилой недвижимости                  NaN  "
      ]
     },
     "execution_count": 10,
     "metadata": {},
     "output_type": "execute_result"
    }
   ],
   "source": [
    "df[(df['education'] == 'высшее') & (df['income_type'] == 'предприниматель') & (df['gender'] == 'M')]"
   ]
  },
  {
   "cell_type": "markdown",
   "metadata": {},
   "source": [
    "По таким критерия подходит только одна строка. Удалим эту строку."
   ]
  },
  {
   "cell_type": "code",
   "execution_count": 11,
   "metadata": {},
   "outputs": [],
   "source": [
    "df.dropna(subset = ['total_income'], inplace=True)"
   ]
  },
  {
   "cell_type": "markdown",
   "metadata": {},
   "source": [
    "Удалим столбец с расчитанной медианой и выведем общую информацию о таблице."
   ]
  },
  {
   "cell_type": "code",
   "execution_count": 12,
   "metadata": {
    "scrolled": true
   },
   "outputs": [
    {
     "name": "stdout",
     "output_type": "stream",
     "text": [
      "<class 'pandas.core.frame.DataFrame'>\n",
      "Int64Index: 21524 entries, 0 to 21524\n",
      "Data columns (total 12 columns):\n",
      " #   Column            Non-Null Count  Dtype  \n",
      "---  ------            --------------  -----  \n",
      " 0   children          21524 non-null  int64  \n",
      " 1   days_employed     19351 non-null  float64\n",
      " 2   dob_years         21524 non-null  int64  \n",
      " 3   education         21524 non-null  object \n",
      " 4   education_id      21524 non-null  int64  \n",
      " 5   family_status     21524 non-null  object \n",
      " 6   family_status_id  21524 non-null  int64  \n",
      " 7   gender            21524 non-null  object \n",
      " 8   income_type       21524 non-null  object \n",
      " 9   debt              21524 non-null  int64  \n",
      " 10  total_income      21524 non-null  float64\n",
      " 11  purpose           21524 non-null  object \n",
      "dtypes: float64(2), int64(5), object(5)\n",
      "memory usage: 2.1+ MB\n"
     ]
    }
   ],
   "source": [
    "df = df.drop(['total_income_median'], axis=1)\n",
    "df.info()"
   ]
  },
  {
   "cell_type": "markdown",
   "metadata": {},
   "source": [
    "Все пропуски в столбце о доходе заполнены."
   ]
  },
  {
   "cell_type": "markdown",
   "metadata": {},
   "source": [
    "Проверим не осталось ли ошибок в наших данных. Наше задание выяснить влияет ли семейное положение и количество детей клиента на факт возврата кредита в срок.\n",
    "Проверим, какие у нас есть клиенты по количеству детей в семье."
   ]
  },
  {
   "cell_type": "code",
   "execution_count": 13,
   "metadata": {},
   "outputs": [
    {
     "data": {
      "text/plain": [
       " 0     14148\n",
       " 1      4818\n",
       " 2      2055\n",
       " 3       330\n",
       " 20       76\n",
       "-1        47\n",
       " 4        41\n",
       " 5         9\n",
       "Name: children, dtype: int64"
      ]
     },
     "execution_count": 13,
     "metadata": {},
     "output_type": "execute_result"
    }
   ],
   "source": [
    "df['children'].value_counts()"
   ]
  },
  {
   "cell_type": "markdown",
   "metadata": {},
   "source": [
    "Предположим, что в данных ошибка по причине неверного внесения информации - кто-то любит стучать по клавиатуре. Мы видим отрицательное значение у 47 клиентов, а у 76 клиентов аж по 20 детей. Странно, т.к. количество клиентов у кого больше 4-х детей всего лишь 50. Заменим отрицательные значения на положительные и заменим число 20 на 2 (т.к. скорее всего это опечатка)."
   ]
  },
  {
   "cell_type": "code",
   "execution_count": 14,
   "metadata": {},
   "outputs": [
    {
     "data": {
      "text/plain": [
       "0    14148\n",
       "1     4865\n",
       "2     2131\n",
       "3      330\n",
       "4       41\n",
       "5        9\n",
       "Name: children, dtype: int64"
      ]
     },
     "execution_count": 14,
     "metadata": {},
     "output_type": "execute_result"
    }
   ],
   "source": [
    "df['children'] = df['children'].replace(20, 2)\n",
    "df['children'] = df['children'].replace(-1, 1)\n",
    "df['children'].value_counts()"
   ]
  },
  {
   "cell_type": "markdown",
   "metadata": {},
   "source": [
    "Теперь больше похоже на правду."
   ]
  },
  {
   "cell_type": "markdown",
   "metadata": {},
   "source": [
    "Посмотрим на нашу таблицу методом describe - не осталось ли у нас ошибочных значений?"
   ]
  },
  {
   "cell_type": "code",
   "execution_count": 15,
   "metadata": {},
   "outputs": [
    {
     "data": {
      "text/html": [
       "<div>\n",
       "<style scoped>\n",
       "    .dataframe tbody tr th:only-of-type {\n",
       "        vertical-align: middle;\n",
       "    }\n",
       "\n",
       "    .dataframe tbody tr th {\n",
       "        vertical-align: top;\n",
       "    }\n",
       "\n",
       "    .dataframe thead th {\n",
       "        text-align: right;\n",
       "    }\n",
       "</style>\n",
       "<table border=\"1\" class=\"dataframe\">\n",
       "  <thead>\n",
       "    <tr style=\"text-align: right;\">\n",
       "      <th></th>\n",
       "      <th>children</th>\n",
       "      <th>days_employed</th>\n",
       "      <th>dob_years</th>\n",
       "      <th>education_id</th>\n",
       "      <th>family_status_id</th>\n",
       "      <th>debt</th>\n",
       "      <th>total_income</th>\n",
       "    </tr>\n",
       "  </thead>\n",
       "  <tbody>\n",
       "    <tr>\n",
       "      <th>count</th>\n",
       "      <td>21524.000000</td>\n",
       "      <td>19351.000000</td>\n",
       "      <td>21524.000000</td>\n",
       "      <td>21524.000000</td>\n",
       "      <td>21524.000000</td>\n",
       "      <td>21524.000000</td>\n",
       "      <td>2.152400e+04</td>\n",
       "    </tr>\n",
       "    <tr>\n",
       "      <th>mean</th>\n",
       "      <td>0.479744</td>\n",
       "      <td>63046.497661</td>\n",
       "      <td>43.292697</td>\n",
       "      <td>0.817274</td>\n",
       "      <td>0.972589</td>\n",
       "      <td>0.080886</td>\n",
       "      <td>1.653555e+05</td>\n",
       "    </tr>\n",
       "    <tr>\n",
       "      <th>std</th>\n",
       "      <td>0.755539</td>\n",
       "      <td>140827.311974</td>\n",
       "      <td>12.574476</td>\n",
       "      <td>0.548123</td>\n",
       "      <td>1.420341</td>\n",
       "      <td>0.272667</td>\n",
       "      <td>9.827105e+04</td>\n",
       "    </tr>\n",
       "    <tr>\n",
       "      <th>min</th>\n",
       "      <td>0.000000</td>\n",
       "      <td>-18388.949901</td>\n",
       "      <td>0.000000</td>\n",
       "      <td>0.000000</td>\n",
       "      <td>0.000000</td>\n",
       "      <td>0.000000</td>\n",
       "      <td>2.066726e+04</td>\n",
       "    </tr>\n",
       "    <tr>\n",
       "      <th>25%</th>\n",
       "      <td>0.000000</td>\n",
       "      <td>-2747.423625</td>\n",
       "      <td>33.000000</td>\n",
       "      <td>1.000000</td>\n",
       "      <td>0.000000</td>\n",
       "      <td>0.000000</td>\n",
       "      <td>1.077151e+05</td>\n",
       "    </tr>\n",
       "    <tr>\n",
       "      <th>50%</th>\n",
       "      <td>0.000000</td>\n",
       "      <td>-1203.369529</td>\n",
       "      <td>42.000000</td>\n",
       "      <td>1.000000</td>\n",
       "      <td>0.000000</td>\n",
       "      <td>0.000000</td>\n",
       "      <td>1.448818e+05</td>\n",
       "    </tr>\n",
       "    <tr>\n",
       "      <th>75%</th>\n",
       "      <td>1.000000</td>\n",
       "      <td>-291.095954</td>\n",
       "      <td>53.000000</td>\n",
       "      <td>1.000000</td>\n",
       "      <td>1.000000</td>\n",
       "      <td>0.000000</td>\n",
       "      <td>1.966055e+05</td>\n",
       "    </tr>\n",
       "    <tr>\n",
       "      <th>max</th>\n",
       "      <td>5.000000</td>\n",
       "      <td>401755.400475</td>\n",
       "      <td>75.000000</td>\n",
       "      <td>4.000000</td>\n",
       "      <td>4.000000</td>\n",
       "      <td>1.000000</td>\n",
       "      <td>2.265604e+06</td>\n",
       "    </tr>\n",
       "  </tbody>\n",
       "</table>\n",
       "</div>"
      ],
      "text/plain": [
       "           children  days_employed     dob_years  education_id  \\\n",
       "count  21524.000000   19351.000000  21524.000000  21524.000000   \n",
       "mean       0.479744   63046.497661     43.292697      0.817274   \n",
       "std        0.755539  140827.311974     12.574476      0.548123   \n",
       "min        0.000000  -18388.949901      0.000000      0.000000   \n",
       "25%        0.000000   -2747.423625     33.000000      1.000000   \n",
       "50%        0.000000   -1203.369529     42.000000      1.000000   \n",
       "75%        1.000000    -291.095954     53.000000      1.000000   \n",
       "max        5.000000  401755.400475     75.000000      4.000000   \n",
       "\n",
       "       family_status_id          debt  total_income  \n",
       "count      21524.000000  21524.000000  2.152400e+04  \n",
       "mean           0.972589      0.080886  1.653555e+05  \n",
       "std            1.420341      0.272667  9.827105e+04  \n",
       "min            0.000000      0.000000  2.066726e+04  \n",
       "25%            0.000000      0.000000  1.077151e+05  \n",
       "50%            0.000000      0.000000  1.448818e+05  \n",
       "75%            1.000000      0.000000  1.966055e+05  \n",
       "max            4.000000      1.000000  2.265604e+06  "
      ]
     },
     "execution_count": 15,
     "metadata": {},
     "output_type": "execute_result"
    }
   ],
   "source": [
    "df.describe()"
   ]
  },
  {
   "cell_type": "markdown",
   "metadata": {},
   "source": [
    "В dob_years в минимальном значении указоно 0, но нулей в возрасте быть не может, исправим это."
   ]
  },
  {
   "cell_type": "code",
   "execution_count": 16,
   "metadata": {},
   "outputs": [
    {
     "name": "stdout",
     "output_type": "stream",
     "text": [
      "Нулей в столбце  dob_years до замены: 101\n"
     ]
    }
   ],
   "source": [
    "print('Нулей в столбце  dob_years до замены:', df['dob_years'][df['dob_years']==0].count())"
   ]
  },
  {
   "cell_type": "markdown",
   "metadata": {},
   "source": [
    "Так как возраст клиента не требуется для ответа на поставленные вопросы, заполним нули простым способом - медианой по столбцу."
   ]
  },
  {
   "cell_type": "code",
   "execution_count": 17,
   "metadata": {},
   "outputs": [
    {
     "name": "stdout",
     "output_type": "stream",
     "text": [
      "Нулей в столбце  dob_years после замены: 0\n"
     ]
    }
   ],
   "source": [
    "median_dob_years = df['dob_years'].median()\n",
    "df['dob_years'] = df['dob_years'].replace(0, median_dob_years)\n",
    "print('Нулей в столбце  dob_years после замены:', df['dob_years'][df['dob_years']==0].count())"
   ]
  },
  {
   "cell_type": "markdown",
   "metadata": {},
   "source": [
    "### Вывод"
   ]
  },
  {
   "cell_type": "markdown",
   "metadata": {},
   "source": [
    "Мы обработали пропущенные значения по ежемесячному доходу. Причинами таких пропусков может быть не предоставление клиентов вышеуказанной информации, но так же предполагаю, что банк не имеет информации о доходах, т.к. доходы клиент получает на счет в другом банке и к такой информации доступа нет (т.е 10% клиентов берут кредит в банке, в котором не обслуживаются). Так как это данные о доходе, то логично их было заполнить медианой, но чтобы значение было вернее медиану мы высчитали из сгруппированных данных по полу, образованию и виду деятельности.\n",
    "\n",
    "Еще мы нашли некорректные данные в количестве детей, а эти данные очень нужны нам для нашего исследования. Мы предположили, что данные ошибочные и заменили неверные на предполагаемые.\n",
    "\n",
    "После финальной провреки мы обнаружили нули в возрасте клиента и так как возраст не влияет на наше исследование заменили данные для красоты простым методом - заменили пропуски на медиану по столбцу."
   ]
  },
  {
   "cell_type": "markdown",
   "metadata": {},
   "source": [
    "### Замена типа данных"
   ]
  },
  {
   "cell_type": "markdown",
   "metadata": {},
   "source": [
    "Для удобства переведем данные о доходе в цельночисленные методом astype()."
   ]
  },
  {
   "cell_type": "code",
   "execution_count": 18,
   "metadata": {},
   "outputs": [],
   "source": [
    "df['total_income'] = df['total_income'].astype(int)"
   ]
  },
  {
   "cell_type": "markdown",
   "metadata": {},
   "source": [
    "### Вывод"
   ]
  },
  {
   "cell_type": "markdown",
   "metadata": {},
   "source": [
    "Одним из вопросов в нашем анализе будет: есть ли зависимость между уровнем дохода и возвратом кредита в срок. Для удобства дальнейше работы мы поменяли данные в столбце с доходом на цельночисленные."
   ]
  },
  {
   "cell_type": "markdown",
   "metadata": {},
   "source": [
    "### Обработка дубликатов"
   ]
  },
  {
   "cell_type": "markdown",
   "metadata": {},
   "source": [
    "Предположим, что во фрейме есть полнностью дублированные строки. Применим к фрейму метод drop_duplicates и обновим индексы."
   ]
  },
  {
   "cell_type": "markdown",
   "metadata": {},
   "source": [
    "Но для начала уберем дубликаты по регистру в столбце education. Приведем столбцы с образованием к нормальному виду."
   ]
  },
  {
   "cell_type": "code",
   "execution_count": 19,
   "metadata": {},
   "outputs": [
    {
     "name": "stdout",
     "output_type": "stream",
     "text": [
      " Проверка после применения метода str.lower: ['высшее' 'среднее' 'неоконченное высшее' 'начальное' 'ученая степень']\n"
     ]
    }
   ],
   "source": [
    "df['education'] = df['education'].str.lower()\n",
    "print(' Проверка после применения метода str.lower:', df['education'].unique())"
   ]
  },
  {
   "cell_type": "markdown",
   "metadata": {},
   "source": [
    "Тот же метод для верности применим и к столбцу с семейныым положением."
   ]
  },
  {
   "cell_type": "code",
   "execution_count": 20,
   "metadata": {},
   "outputs": [],
   "source": [
    "df['family_status'] = df['family_status'].str.lower()"
   ]
  },
  {
   "cell_type": "markdown",
   "metadata": {},
   "source": [
    "Выведем фрейм с полностью дублированными строками."
   ]
  },
  {
   "cell_type": "code",
   "execution_count": 21,
   "metadata": {},
   "outputs": [
    {
     "data": {
      "text/html": [
       "<div>\n",
       "<style scoped>\n",
       "    .dataframe tbody tr th:only-of-type {\n",
       "        vertical-align: middle;\n",
       "    }\n",
       "\n",
       "    .dataframe tbody tr th {\n",
       "        vertical-align: top;\n",
       "    }\n",
       "\n",
       "    .dataframe thead th {\n",
       "        text-align: right;\n",
       "    }\n",
       "</style>\n",
       "<table border=\"1\" class=\"dataframe\">\n",
       "  <thead>\n",
       "    <tr style=\"text-align: right;\">\n",
       "      <th></th>\n",
       "      <th>children</th>\n",
       "      <th>days_employed</th>\n",
       "      <th>dob_years</th>\n",
       "      <th>education</th>\n",
       "      <th>education_id</th>\n",
       "      <th>family_status</th>\n",
       "      <th>family_status_id</th>\n",
       "      <th>gender</th>\n",
       "      <th>income_type</th>\n",
       "      <th>debt</th>\n",
       "      <th>total_income</th>\n",
       "      <th>purpose</th>\n",
       "    </tr>\n",
       "  </thead>\n",
       "  <tbody>\n",
       "    <tr>\n",
       "      <th>2849</th>\n",
       "      <td>0</td>\n",
       "      <td>NaN</td>\n",
       "      <td>41</td>\n",
       "      <td>среднее</td>\n",
       "      <td>1</td>\n",
       "      <td>женат / замужем</td>\n",
       "      <td>0</td>\n",
       "      <td>F</td>\n",
       "      <td>сотрудник</td>\n",
       "      <td>0</td>\n",
       "      <td>124127</td>\n",
       "      <td>покупка жилья для семьи</td>\n",
       "    </tr>\n",
       "    <tr>\n",
       "      <th>3290</th>\n",
       "      <td>0</td>\n",
       "      <td>NaN</td>\n",
       "      <td>58</td>\n",
       "      <td>среднее</td>\n",
       "      <td>1</td>\n",
       "      <td>гражданский брак</td>\n",
       "      <td>1</td>\n",
       "      <td>F</td>\n",
       "      <td>пенсионер</td>\n",
       "      <td>0</td>\n",
       "      <td>112790</td>\n",
       "      <td>сыграть свадьбу</td>\n",
       "    </tr>\n",
       "    <tr>\n",
       "      <th>4182</th>\n",
       "      <td>1</td>\n",
       "      <td>NaN</td>\n",
       "      <td>34</td>\n",
       "      <td>высшее</td>\n",
       "      <td>0</td>\n",
       "      <td>гражданский брак</td>\n",
       "      <td>1</td>\n",
       "      <td>F</td>\n",
       "      <td>сотрудник</td>\n",
       "      <td>0</td>\n",
       "      <td>153691</td>\n",
       "      <td>свадьба</td>\n",
       "    </tr>\n",
       "    <tr>\n",
       "      <th>4851</th>\n",
       "      <td>0</td>\n",
       "      <td>NaN</td>\n",
       "      <td>60</td>\n",
       "      <td>среднее</td>\n",
       "      <td>1</td>\n",
       "      <td>гражданский брак</td>\n",
       "      <td>1</td>\n",
       "      <td>F</td>\n",
       "      <td>пенсионер</td>\n",
       "      <td>0</td>\n",
       "      <td>112790</td>\n",
       "      <td>свадьба</td>\n",
       "    </tr>\n",
       "    <tr>\n",
       "      <th>5557</th>\n",
       "      <td>0</td>\n",
       "      <td>NaN</td>\n",
       "      <td>58</td>\n",
       "      <td>среднее</td>\n",
       "      <td>1</td>\n",
       "      <td>гражданский брак</td>\n",
       "      <td>1</td>\n",
       "      <td>F</td>\n",
       "      <td>пенсионер</td>\n",
       "      <td>0</td>\n",
       "      <td>112790</td>\n",
       "      <td>сыграть свадьбу</td>\n",
       "    </tr>\n",
       "    <tr>\n",
       "      <th>...</th>\n",
       "      <td>...</td>\n",
       "      <td>...</td>\n",
       "      <td>...</td>\n",
       "      <td>...</td>\n",
       "      <td>...</td>\n",
       "      <td>...</td>\n",
       "      <td>...</td>\n",
       "      <td>...</td>\n",
       "      <td>...</td>\n",
       "      <td>...</td>\n",
       "      <td>...</td>\n",
       "      <td>...</td>\n",
       "    </tr>\n",
       "    <tr>\n",
       "      <th>20702</th>\n",
       "      <td>0</td>\n",
       "      <td>NaN</td>\n",
       "      <td>64</td>\n",
       "      <td>среднее</td>\n",
       "      <td>1</td>\n",
       "      <td>женат / замужем</td>\n",
       "      <td>0</td>\n",
       "      <td>F</td>\n",
       "      <td>пенсионер</td>\n",
       "      <td>0</td>\n",
       "      <td>112790</td>\n",
       "      <td>дополнительное образование</td>\n",
       "    </tr>\n",
       "    <tr>\n",
       "      <th>21032</th>\n",
       "      <td>0</td>\n",
       "      <td>NaN</td>\n",
       "      <td>60</td>\n",
       "      <td>среднее</td>\n",
       "      <td>1</td>\n",
       "      <td>женат / замужем</td>\n",
       "      <td>0</td>\n",
       "      <td>F</td>\n",
       "      <td>пенсионер</td>\n",
       "      <td>0</td>\n",
       "      <td>112790</td>\n",
       "      <td>заняться образованием</td>\n",
       "    </tr>\n",
       "    <tr>\n",
       "      <th>21132</th>\n",
       "      <td>0</td>\n",
       "      <td>NaN</td>\n",
       "      <td>47</td>\n",
       "      <td>среднее</td>\n",
       "      <td>1</td>\n",
       "      <td>женат / замужем</td>\n",
       "      <td>0</td>\n",
       "      <td>F</td>\n",
       "      <td>сотрудник</td>\n",
       "      <td>0</td>\n",
       "      <td>124127</td>\n",
       "      <td>ремонт жилью</td>\n",
       "    </tr>\n",
       "    <tr>\n",
       "      <th>21281</th>\n",
       "      <td>1</td>\n",
       "      <td>NaN</td>\n",
       "      <td>30</td>\n",
       "      <td>высшее</td>\n",
       "      <td>0</td>\n",
       "      <td>женат / замужем</td>\n",
       "      <td>0</td>\n",
       "      <td>F</td>\n",
       "      <td>сотрудник</td>\n",
       "      <td>0</td>\n",
       "      <td>153691</td>\n",
       "      <td>покупка коммерческой недвижимости</td>\n",
       "    </tr>\n",
       "    <tr>\n",
       "      <th>21415</th>\n",
       "      <td>0</td>\n",
       "      <td>NaN</td>\n",
       "      <td>54</td>\n",
       "      <td>среднее</td>\n",
       "      <td>1</td>\n",
       "      <td>женат / замужем</td>\n",
       "      <td>0</td>\n",
       "      <td>F</td>\n",
       "      <td>пенсионер</td>\n",
       "      <td>0</td>\n",
       "      <td>112790</td>\n",
       "      <td>операции с жильем</td>\n",
       "    </tr>\n",
       "  </tbody>\n",
       "</table>\n",
       "<p>72 rows × 12 columns</p>\n",
       "</div>"
      ],
      "text/plain": [
       "       children  days_employed  dob_years education  education_id  \\\n",
       "2849          0            NaN         41   среднее             1   \n",
       "3290          0            NaN         58   среднее             1   \n",
       "4182          1            NaN         34    высшее             0   \n",
       "4851          0            NaN         60   среднее             1   \n",
       "5557          0            NaN         58   среднее             1   \n",
       "...         ...            ...        ...       ...           ...   \n",
       "20702         0            NaN         64   среднее             1   \n",
       "21032         0            NaN         60   среднее             1   \n",
       "21132         0            NaN         47   среднее             1   \n",
       "21281         1            NaN         30    высшее             0   \n",
       "21415         0            NaN         54   среднее             1   \n",
       "\n",
       "          family_status  family_status_id gender income_type  debt  \\\n",
       "2849    женат / замужем                 0      F   сотрудник     0   \n",
       "3290   гражданский брак                 1      F   пенсионер     0   \n",
       "4182   гражданский брак                 1      F   сотрудник     0   \n",
       "4851   гражданский брак                 1      F   пенсионер     0   \n",
       "5557   гражданский брак                 1      F   пенсионер     0   \n",
       "...                 ...               ...    ...         ...   ...   \n",
       "20702   женат / замужем                 0      F   пенсионер     0   \n",
       "21032   женат / замужем                 0      F   пенсионер     0   \n",
       "21132   женат / замужем                 0      F   сотрудник     0   \n",
       "21281   женат / замужем                 0      F   сотрудник     0   \n",
       "21415   женат / замужем                 0      F   пенсионер     0   \n",
       "\n",
       "       total_income                            purpose  \n",
       "2849         124127            покупка жилья для семьи  \n",
       "3290         112790                    сыграть свадьбу  \n",
       "4182         153691                            свадьба  \n",
       "4851         112790                            свадьба  \n",
       "5557         112790                    сыграть свадьбу  \n",
       "...             ...                                ...  \n",
       "20702        112790         дополнительное образование  \n",
       "21032        112790              заняться образованием  \n",
       "21132        124127                       ремонт жилью  \n",
       "21281        153691  покупка коммерческой недвижимости  \n",
       "21415        112790                  операции с жильем  \n",
       "\n",
       "[72 rows x 12 columns]"
      ]
     },
     "execution_count": 21,
     "metadata": {},
     "output_type": "execute_result"
    }
   ],
   "source": [
    "df[df.duplicated()]"
   ]
  },
  {
   "cell_type": "markdown",
   "metadata": {},
   "source": [
    "Полные дубликаты есть только в тех строках, которые не имели данные о стаже работы, а следовательно и данные о доходе. Удалим полностью дублированные строки."
   ]
  },
  {
   "cell_type": "code",
   "execution_count": 22,
   "metadata": {},
   "outputs": [
    {
     "name": "stdout",
     "output_type": "stream",
     "text": [
      "Текущий размер (21524, 12)\n"
     ]
    }
   ],
   "source": [
    "shape_table = df.shape\n",
    "df_duplicates = df.duplicated().sum()\n",
    "print('Текущий размер', shape_table)\n",
    "#print('Количество найденных дубликатов', df_duplicates)"
   ]
  },
  {
   "cell_type": "code",
   "execution_count": 23,
   "metadata": {},
   "outputs": [],
   "source": [
    "shape_table = df.shape\n",
    "df = df.drop_duplicates().reset_index(drop = True)\n",
    "shape_table_update = df.shape\n",
    "df_duplicates_after = df.duplicated().sum()"
   ]
  },
  {
   "cell_type": "code",
   "execution_count": 24,
   "metadata": {},
   "outputs": [
    {
     "name": "stdout",
     "output_type": "stream",
     "text": [
      "Таблица уменьшилась, текущий размер (21452, 12)\n",
      "Найдено и удалено дубликатов: 72\n"
     ]
    }
   ],
   "source": [
    "if shape_table_update == shape_table:\n",
    "    print('Результат не изменился, текущий размер', shape_table_update)\n",
    "    print('Дубликатов не обнаружено')\n",
    "else:\n",
    "    print('Таблица уменьшилась, текущий размер', shape_table_update)\n",
    "    print('Найдено и удалено дубликатов:', df_duplicates)\n",
    "        "
   ]
  },
  {
   "cell_type": "markdown",
   "metadata": {},
   "source": [
    "### Вывод"
   ]
  },
  {
   "cell_type": "markdown",
   "metadata": {},
   "source": [
    "В таблице присутсвовали полностью дублированные строки. Всего найдено и удалено 72 дублированные строки. Так как по столбцам присутсвует много дубликатов, мы применили метод drop_duplicates потому, что он применятся сразу ко всему фрейму. Как оказалось простой метод оказался пригодным для данной таблицы. \n",
    "\n",
    "Причиной возникновения дубликатов может являться то, что клиент направил две заявки на кредит (нажал в банковском приложении два раза на кнопку \"подать заявку на кредит\")."
   ]
  },
  {
   "cell_type": "markdown",
   "metadata": {},
   "source": [
    "### Лемматизация"
   ]
  },
  {
   "cell_type": "markdown",
   "metadata": {},
   "source": [
    "Попробуем рассмотреть, какие данные содержатьяся в целях кредита."
   ]
  },
  {
   "cell_type": "code",
   "execution_count": 25,
   "metadata": {},
   "outputs": [
    {
     "data": {
      "text/plain": [
       "свадьба                                   791\n",
       "на проведение свадьбы                     767\n",
       "сыграть свадьбу                           765\n",
       "операции с недвижимостью                  675\n",
       "покупка коммерческой недвижимости         661\n",
       "операции с жильем                         652\n",
       "покупка жилья для сдачи                   651\n",
       "операции с коммерческой недвижимостью     650\n",
       "покупка жилья                             646\n",
       "жилье                                     646\n",
       "покупка жилья для семьи                   638\n",
       "строительство собственной недвижимости    635\n",
       "недвижимость                              633\n",
       "операции со своей недвижимостью           627\n",
       "строительство жилой недвижимости          624\n",
       "покупка недвижимости                      621\n",
       "покупка своего жилья                      620\n",
       "строительство недвижимости                619\n",
       "ремонт жилью                              607\n",
       "покупка жилой недвижимости                605\n",
       "на покупку своего автомобиля              505\n",
       "заняться высшим образованием              496\n",
       "автомобиль                                494\n",
       "сделка с подержанным автомобилем          486\n",
       "автомобили                                478\n",
       "свой автомобиль                           478\n",
       "на покупку подержанного автомобиля        478\n",
       "на покупку автомобиля                     471\n",
       "приобретение автомобиля                   461\n",
       "дополнительное образование                460\n",
       "сделка с автомобилем                      455\n",
       "высшее образование                        452\n",
       "образование                               447\n",
       "получение дополнительного образования     446\n",
       "получение образования                     442\n",
       "профильное образование                    436\n",
       "получение высшего образования             426\n",
       "заняться образованием                     408\n",
       "Name: purpose, dtype: int64"
      ]
     },
     "execution_count": 25,
     "metadata": {},
     "output_type": "execute_result"
    }
   ],
   "source": [
    "df['purpose'].value_counts()"
   ]
  },
  {
   "cell_type": "markdown",
   "metadata": {},
   "source": [
    "Мы теперь примерно понимаем какие данные присутсвуют в этом столбце. Но это неудобно."
   ]
  },
  {
   "cell_type": "markdown",
   "metadata": {},
   "source": [
    "Ипортируем библиотеку pymystem3 и лемматизируем строку text в которой мы сохранили уникальные значения по столбцу \"цель кредита\". После посчитаем число упоминаний лемматизированных слов при помощи контейнера Counter из модуля collections."
   ]
  },
  {
   "cell_type": "code",
   "execution_count": 26,
   "metadata": {},
   "outputs": [
    {
     "name": "stdout",
     "output_type": "stream",
     "text": [
      "Counter({' ': 96, 'покупка': 10, 'недвижимость': 10, 'автомобиль': 9, 'образование': 9, 'жилье': 7, 'с': 5, 'операция': 4, 'на': 4, 'свой': 4, 'свадьба': 3, 'строительство': 3, 'получение': 3, 'высокий': 3, 'дополнительный': 2, 'для': 2, 'коммерческий': 2, 'жилой': 2, 'подержать': 2, 'заниматься': 2, 'сделка': 2, 'приобретение': 1, 'сыграть': 1, 'проведение': 1, 'семья': 1, 'собственный': 1, 'со': 1, 'профильный': 1, 'сдача': 1, 'ремонт': 1, '\\n': 1})\n"
     ]
    }
   ],
   "source": [
    "#from pymystem3 import Mystem\n",
    "m = Mystem()\n",
    "text = ' '.join(df['purpose'].unique())\n",
    "lemmas = m.lemmatize(text)\n",
    "#from collections import Counter\n",
    "print(Counter(lemmas))"
   ]
  },
  {
   "cell_type": "markdown",
   "metadata": {},
   "source": [
    "### Вывод"
   ]
  },
  {
   "cell_type": "markdown",
   "metadata": {},
   "source": [
    "Мы лемматирзировали данные в столбце с целью кредита. Это будет использовано нами для категоризации данных. Но уже сейчас видно цели кредита это покупка недвижимости или автомобиля, кому-то нужны деньги на свадьбу или образование, а кто-то планирует сделать ремонт. "
   ]
  },
  {
   "cell_type": "markdown",
   "metadata": {},
   "source": [
    "### Категоризация данных"
   ]
  },
  {
   "cell_type": "markdown",
   "metadata": {},
   "source": [
    "На основании списка наших лемм мы можем категоризовать данные, разделим данные по основным каттегориям - покупка недвижимости, ремонт, покупка автомобиля и проведение свадьбы.\n",
    "\n",
    "Для того, чтобы категоризировать данные о цели кредита напишем функцию purpose_group, которая будет принимать значение lemmas и возвращать значения, согласно наших условий."
   ]
  },
  {
   "cell_type": "code",
   "execution_count": 27,
   "metadata": {},
   "outputs": [],
   "source": [
    "def purpose_group(lemmas):\n",
    "    if 'ремонт' and 'жилье' in lemmas:\n",
    "        return 'ремонт'\n",
    "    if 'недвижимость' in lemmas:\n",
    "        return 'недвижимость'\n",
    "    if 'автомобиль' in lemmas:\n",
    "        return 'автомобиль'\n",
    "    if 'образование' in lemmas:\n",
    "        return 'образование'\n",
    "    if 'жилье' in lemmas:\n",
    "        return 'недвижимость'\n",
    "    if 'операция' in lemmas:\n",
    "        return 'недвижимость'\n",
    "    if 'свадьба' in lemmas:\n",
    "        return 'свадьба'\n",
    "    if 'строительство' in lemmas:\n",
    "        return 'недвижимость'\n",
    "    else:\n",
    "        return 'другое'"
   ]
  },
  {
   "cell_type": "markdown",
   "metadata": {},
   "source": [
    "Добавим новый стобец с леммами по каждой строке."
   ]
  },
  {
   "cell_type": "code",
   "execution_count": 28,
   "metadata": {},
   "outputs": [],
   "source": [
    "df['lemmas_column'] = df['purpose'].apply(m.lemmatize)"
   ]
  },
  {
   "cell_type": "markdown",
   "metadata": {},
   "source": [
    "После добавим столбец purpose_category, применим написанную нами функцию к значениям по столбцу lemmas_column."
   ]
  },
  {
   "cell_type": "code",
   "execution_count": 29,
   "metadata": {},
   "outputs": [],
   "source": [
    "df['purpose_category'] = df['lemmas_column'].apply(purpose_group)"
   ]
  },
  {
   "cell_type": "markdown",
   "metadata": {},
   "source": [
    "Теперь посчитаем значения по нашим категориям."
   ]
  },
  {
   "cell_type": "code",
   "execution_count": 30,
   "metadata": {},
   "outputs": [
    {
     "data": {
      "text/plain": [
       "недвижимость    6350\n",
       "ремонт          4460\n",
       "автомобиль      4306\n",
       "образование     4013\n",
       "свадьба         2323\n",
       "Name: purpose_category, dtype: int64"
      ]
     },
     "execution_count": 30,
     "metadata": {},
     "output_type": "execute_result"
    }
   ],
   "source": [
    "df['purpose_category'].value_counts()"
   ]
  },
  {
   "cell_type": "markdown",
   "metadata": {},
   "source": [
    "Напишем функцию для категоризации клиентов по количеству детей."
   ]
  },
  {
   "cell_type": "code",
   "execution_count": 31,
   "metadata": {},
   "outputs": [],
   "source": [
    "def children_value(children):\n",
    "    if children == 0:\n",
    "        return 'нет детей'\n",
    "    if children == 1:\n",
    "        return 'один ребенок'\n",
    "    if children == 2:\n",
    "        return 'двое детей'\n",
    "    if children > 2:\n",
    "        return 'многодетный'"
   ]
  },
  {
   "cell_type": "markdown",
   "metadata": {},
   "source": [
    "Создадим новый столбец children_type и применим метод apply для применения этой функции к значениям по столбцу children."
   ]
  },
  {
   "cell_type": "code",
   "execution_count": 32,
   "metadata": {},
   "outputs": [
    {
     "data": {
      "text/plain": [
       "нет детей       14089\n",
       "один ребенок     4855\n",
       "двое детей       2128\n",
       "многодетный       380\n",
       "Name: children_group, dtype: int64"
      ]
     },
     "execution_count": 32,
     "metadata": {},
     "output_type": "execute_result"
    }
   ],
   "source": [
    "df['children_group'] = df['children'].apply(children_value)\n",
    "df['children_group'].value_counts()"
   ]
  },
  {
   "cell_type": "markdown",
   "metadata": {},
   "source": [
    "Для ответа на поставленные вопросы нам понадобиться  выделить группы и по уровню дохода. Построим сводную таблицу и узнаем данные о доходах. Чтобы потом выделить их в категории."
   ]
  },
  {
   "cell_type": "code",
   "execution_count": 33,
   "metadata": {},
   "outputs": [
    {
     "data": {
      "text/html": [
       "<div>\n",
       "<style scoped>\n",
       "    .dataframe tbody tr th:only-of-type {\n",
       "        vertical-align: middle;\n",
       "    }\n",
       "\n",
       "    .dataframe tbody tr th {\n",
       "        vertical-align: top;\n",
       "    }\n",
       "\n",
       "    .dataframe thead th {\n",
       "        text-align: right;\n",
       "    }\n",
       "</style>\n",
       "<table border=\"1\" class=\"dataframe\">\n",
       "  <thead>\n",
       "    <tr style=\"text-align: right;\">\n",
       "      <th></th>\n",
       "      <th>max</th>\n",
       "      <th>mean</th>\n",
       "      <th>median</th>\n",
       "      <th>min</th>\n",
       "    </tr>\n",
       "    <tr>\n",
       "      <th>gender</th>\n",
       "      <th></th>\n",
       "      <th></th>\n",
       "      <th></th>\n",
       "      <th></th>\n",
       "    </tr>\n",
       "  </thead>\n",
       "  <tbody>\n",
       "    <tr>\n",
       "      <th>F</th>\n",
       "      <td>1715018.0</td>\n",
       "      <td>152249.644465</td>\n",
       "      <td>132635.0</td>\n",
       "      <td>20667.0</td>\n",
       "    </tr>\n",
       "    <tr>\n",
       "      <th>M</th>\n",
       "      <td>2265604.0</td>\n",
       "      <td>191215.009893</td>\n",
       "      <td>167084.0</td>\n",
       "      <td>21205.0</td>\n",
       "    </tr>\n",
       "    <tr>\n",
       "      <th>XNA</th>\n",
       "      <td>203905.0</td>\n",
       "      <td>203905.000000</td>\n",
       "      <td>203905.0</td>\n",
       "      <td>203905.0</td>\n",
       "    </tr>\n",
       "  </tbody>\n",
       "</table>\n",
       "</div>"
      ],
      "text/plain": [
       "              max           mean    median       min\n",
       "gender                                              \n",
       "F       1715018.0  152249.644465  132635.0   20667.0\n",
       "M       2265604.0  191215.009893  167084.0   21205.0\n",
       "XNA      203905.0  203905.000000  203905.0  203905.0"
      ]
     },
     "execution_count": 33,
     "metadata": {},
     "output_type": "execute_result"
    }
   ],
   "source": [
    "df.pivot_table(index = ['gender'], values = 'total_income', aggfunc = {'min', 'mean', 'median', 'max'})"
   ]
  },
  {
   "cell_type": "markdown",
   "metadata": {},
   "source": [
    "Разброс от минимума до максимума очень большой. Поэтому применим метод qcut, чтобы разделить значения столбца на одинаковые по количеству группы.\n",
    "\n",
    "Также мы одноружили значение XNA, но так как мы не планируем анализировать возрат кредита по половому признаку, то просто предположим, что это мужчина и заменим значение в gender  на M."
   ]
  },
  {
   "cell_type": "code",
   "execution_count": 34,
   "metadata": {},
   "outputs": [],
   "source": [
    "df['gender'] = df['gender'].replace('XNA', 'M')"
   ]
  },
  {
   "cell_type": "markdown",
   "metadata": {},
   "source": [
    "Теперь выделим  равноразмерные категории методом qcut в новый столбец income_group.\n",
    "Сделаем 6 категорий:\n",
    "* очень низкий;\n",
    "* низкий;\n",
    "* средний;\n",
    "* выше среднего;\n",
    "* высокий;\n",
    "* очень высокий."
   ]
  },
  {
   "cell_type": "code",
   "execution_count": 35,
   "metadata": {},
   "outputs": [
    {
     "data": {
      "text/plain": [
       "средний          3656\n",
       "очень высокий    3576\n",
       "очень низкий     3576\n",
       "высокий          3575\n",
       "низкий           3575\n",
       "выше среднего    3494\n",
       "Name: income_group, dtype: int64"
      ]
     },
     "execution_count": 35,
     "metadata": {},
     "output_type": "execute_result"
    }
   ],
   "source": [
    "df['income_group'] = pd.qcut(df['total_income'],6, labels=['очень низкий', 'низкий', 'средний', 'выше среднего', 'высокий', 'очень высокий'])\n",
    "df['income_group'].value_counts()"
   ]
  },
  {
   "cell_type": "code",
   "execution_count": 36,
   "metadata": {},
   "outputs": [
    {
     "data": {
      "text/plain": [
       "min      20667\n",
       "max    2265604\n",
       "Name: total_income, dtype: int64"
      ]
     },
     "execution_count": 36,
     "metadata": {},
     "output_type": "execute_result"
    }
   ],
   "source": [
    "# reviewers code\n",
    "df['total_income'].agg(['min','max'])"
   ]
  },
  {
   "cell_type": "markdown",
   "metadata": {},
   "source": [
    "### Вывод"
   ]
  },
  {
   "cell_type": "markdown",
   "metadata": {},
   "source": [
    "Основной целью кредита является приобретение недвижимоси и ремнот недвижимости, в сумме эти категории составляют около 50% от всей выборки. Меньше всего клиенты берут кредиты на проведение свадьбы. \n",
    "\n",
    "Выделив клиентов по наличию детей в семье, мы видим, что почти 2/3 клиентов без детей.\n",
    "\n",
    "Также мы выделили группы по уровню доходов методом qcut, таким образом группы получиллись равноразмерные."
   ]
  },
  {
   "cell_type": "markdown",
   "metadata": {},
   "source": [
    "### Шаг 3. Ответьте на вопросы"
   ]
  },
  {
   "cell_type": "markdown",
   "metadata": {},
   "source": [
    "Перед тем как приступить к ответам на вопрос, посчитаем общую долю должников по всей выборке."
   ]
  },
  {
   "cell_type": "code",
   "execution_count": 37,
   "metadata": {},
   "outputs": [
    {
     "data": {
      "text/plain": [
       "0.08115793399216856"
      ]
     },
     "execution_count": 37,
     "metadata": {},
     "output_type": "execute_result"
    }
   ],
   "source": [
    "total_part_of_debetors = df['debt'].sum() / df['debt'].count()\n",
    "total_part_of_debetors"
   ]
  },
  {
   "cell_type": "markdown",
   "metadata": {},
   "source": [
    "Около 8,12% процентов клиентов имели долги по кредитам."
   ]
  },
  {
   "cell_type": "markdown",
   "metadata": {},
   "source": [
    "Для дальнейшего удобства работы с данными создадим финальный фрейм в который занесем нужные значения для ответа на вопросы. Выведем на экран."
   ]
  },
  {
   "cell_type": "code",
   "execution_count": 38,
   "metadata": {},
   "outputs": [
    {
     "data": {
      "text/html": [
       "<div>\n",
       "<style scoped>\n",
       "    .dataframe tbody tr th:only-of-type {\n",
       "        vertical-align: middle;\n",
       "    }\n",
       "\n",
       "    .dataframe tbody tr th {\n",
       "        vertical-align: top;\n",
       "    }\n",
       "\n",
       "    .dataframe thead th {\n",
       "        text-align: right;\n",
       "    }\n",
       "</style>\n",
       "<table border=\"1\" class=\"dataframe\">\n",
       "  <thead>\n",
       "    <tr style=\"text-align: right;\">\n",
       "      <th></th>\n",
       "      <th>children_group</th>\n",
       "      <th>family_status</th>\n",
       "      <th>family_status_id</th>\n",
       "      <th>income_group</th>\n",
       "      <th>purpose_category</th>\n",
       "      <th>debt</th>\n",
       "    </tr>\n",
       "  </thead>\n",
       "  <tbody>\n",
       "    <tr>\n",
       "      <th>0</th>\n",
       "      <td>один ребенок</td>\n",
       "      <td>женат / замужем</td>\n",
       "      <td>0</td>\n",
       "      <td>очень высокий</td>\n",
       "      <td>ремонт</td>\n",
       "      <td>0</td>\n",
       "    </tr>\n",
       "    <tr>\n",
       "      <th>1</th>\n",
       "      <td>один ребенок</td>\n",
       "      <td>женат / замужем</td>\n",
       "      <td>0</td>\n",
       "      <td>низкий</td>\n",
       "      <td>автомобиль</td>\n",
       "      <td>0</td>\n",
       "    </tr>\n",
       "    <tr>\n",
       "      <th>2</th>\n",
       "      <td>нет детей</td>\n",
       "      <td>женат / замужем</td>\n",
       "      <td>0</td>\n",
       "      <td>выше среднего</td>\n",
       "      <td>ремонт</td>\n",
       "      <td>0</td>\n",
       "    </tr>\n",
       "    <tr>\n",
       "      <th>3</th>\n",
       "      <td>многодетный</td>\n",
       "      <td>женат / замужем</td>\n",
       "      <td>0</td>\n",
       "      <td>очень высокий</td>\n",
       "      <td>образование</td>\n",
       "      <td>0</td>\n",
       "    </tr>\n",
       "    <tr>\n",
       "      <th>4</th>\n",
       "      <td>нет детей</td>\n",
       "      <td>гражданский брак</td>\n",
       "      <td>1</td>\n",
       "      <td>выше среднего</td>\n",
       "      <td>свадьба</td>\n",
       "      <td>0</td>\n",
       "    </tr>\n",
       "  </tbody>\n",
       "</table>\n",
       "</div>"
      ],
      "text/plain": [
       "  children_group     family_status  family_status_id   income_group  \\\n",
       "0   один ребенок   женат / замужем                 0  очень высокий   \n",
       "1   один ребенок   женат / замужем                 0         низкий   \n",
       "2      нет детей   женат / замужем                 0  выше среднего   \n",
       "3    многодетный   женат / замужем                 0  очень высокий   \n",
       "4      нет детей  гражданский брак                 1  выше среднего   \n",
       "\n",
       "  purpose_category  debt  \n",
       "0           ремонт     0  \n",
       "1       автомобиль     0  \n",
       "2           ремонт     0  \n",
       "3      образование     0  \n",
       "4          свадьба     0  "
      ]
     },
     "execution_count": 38,
     "metadata": {},
     "output_type": "execute_result"
    }
   ],
   "source": [
    "df_final = df[['children_group', 'family_status', 'family_status_id', 'income_group', 'purpose_category', 'debt']]\n",
    "df_final.head()"
   ]
  },
  {
   "cell_type": "markdown",
   "metadata": {},
   "source": [
    "- Есть ли зависимость между наличием детей и возвратом кредита в срок?"
   ]
  },
  {
   "cell_type": "code",
   "execution_count": 39,
   "metadata": {},
   "outputs": [
    {
     "data": {
      "text/html": [
       "<div>\n",
       "<style scoped>\n",
       "    .dataframe tbody tr th:only-of-type {\n",
       "        vertical-align: middle;\n",
       "    }\n",
       "\n",
       "    .dataframe tbody tr th {\n",
       "        vertical-align: top;\n",
       "    }\n",
       "\n",
       "    .dataframe thead tr th {\n",
       "        text-align: left;\n",
       "    }\n",
       "\n",
       "    .dataframe thead tr:last-of-type th {\n",
       "        text-align: right;\n",
       "    }\n",
       "</style>\n",
       "<table border=\"1\" class=\"dataframe\">\n",
       "  <thead>\n",
       "    <tr>\n",
       "      <th></th>\n",
       "      <th colspan=\"2\" halign=\"left\">debt</th>\n",
       "      <th>part</th>\n",
       "    </tr>\n",
       "    <tr>\n",
       "      <th></th>\n",
       "      <th>count</th>\n",
       "      <th>sum</th>\n",
       "      <th></th>\n",
       "    </tr>\n",
       "    <tr>\n",
       "      <th>children_group</th>\n",
       "      <th></th>\n",
       "      <th></th>\n",
       "      <th></th>\n",
       "    </tr>\n",
       "  </thead>\n",
       "  <tbody>\n",
       "    <tr>\n",
       "      <th>нет детей</th>\n",
       "      <td>14089</td>\n",
       "      <td>1063</td>\n",
       "      <td>0.075449</td>\n",
       "    </tr>\n",
       "    <tr>\n",
       "      <th>многодетный</th>\n",
       "      <td>380</td>\n",
       "      <td>31</td>\n",
       "      <td>0.081579</td>\n",
       "    </tr>\n",
       "    <tr>\n",
       "      <th>один ребенок</th>\n",
       "      <td>4855</td>\n",
       "      <td>445</td>\n",
       "      <td>0.091658</td>\n",
       "    </tr>\n",
       "    <tr>\n",
       "      <th>двое детей</th>\n",
       "      <td>2128</td>\n",
       "      <td>202</td>\n",
       "      <td>0.094925</td>\n",
       "    </tr>\n",
       "  </tbody>\n",
       "</table>\n",
       "</div>"
      ],
      "text/plain": [
       "                 debt            part\n",
       "                count   sum          \n",
       "children_group                       \n",
       "нет детей       14089  1063  0.075449\n",
       "многодетный       380    31  0.081579\n",
       "один ребенок     4855   445  0.091658\n",
       "двое детей       2128   202  0.094925"
      ]
     },
     "execution_count": 39,
     "metadata": {},
     "output_type": "execute_result"
    }
   ],
   "source": [
    "df_final_children = df_final.groupby('children_group').agg({'debt': ['count', 'sum']})\n",
    "df_final_children['part'] = df_final_children['debt']['sum'] / df_final_children['debt']['count']\n",
    "df_final_children.sort_values('part')"
   ]
  },
  {
   "cell_type": "markdown",
   "metadata": {},
   "source": [
    "### Вывод"
   ]
  },
  {
   "cell_type": "markdown",
   "metadata": {},
   "source": [
    "Да, есть зависимость между наличием детей и возвратом кредита в срок. Меньше всего проблем с возвратом долга у клиентов без детей - только 7,55% из этой группы имели долги по кредиту - нет детей, нет долгов, можно платить за себя любимого=). Интересный факт, что если клиент является многодетным (3 и более детей), то возвращает кредит он лучше, чем клиенты с одним и двумя детьми - у мнгодетных 8,15% невозвратов, что очень близко к среднему по всей выборке. Видимо, у многодетных с ростом числа детей растет жизненная ответственность - нельзя рисковать и не отдавать кредит, когда под твоим \"крылом\" куча детей. Разница в процентах между клиентами без детей и клиентами с двумя детьми - 2%, разница существенная и поэтому мы смело можем утверждать, что зависимость есть. У клиентов с одним ребенком - 9,16% невозвратов, у клиентов с двумя - 9,49%, это близкие по показателям группы, но при наличие второго ребенка ситуация с возвратом долго усложняется."
   ]
  },
  {
   "cell_type": "markdown",
   "metadata": {},
   "source": [
    "- Есть ли зависимость между семейным положением и возвратом кредита в срок?"
   ]
  },
  {
   "cell_type": "code",
   "execution_count": 40,
   "metadata": {},
   "outputs": [
    {
     "data": {
      "text/html": [
       "<div>\n",
       "<style scoped>\n",
       "    .dataframe tbody tr th:only-of-type {\n",
       "        vertical-align: middle;\n",
       "    }\n",
       "\n",
       "    .dataframe tbody tr th {\n",
       "        vertical-align: top;\n",
       "    }\n",
       "\n",
       "    .dataframe thead tr th {\n",
       "        text-align: left;\n",
       "    }\n",
       "\n",
       "    .dataframe thead tr:last-of-type th {\n",
       "        text-align: right;\n",
       "    }\n",
       "</style>\n",
       "<table border=\"1\" class=\"dataframe\">\n",
       "  <thead>\n",
       "    <tr>\n",
       "      <th></th>\n",
       "      <th colspan=\"2\" halign=\"left\">debt</th>\n",
       "      <th>part</th>\n",
       "    </tr>\n",
       "    <tr>\n",
       "      <th></th>\n",
       "      <th>count</th>\n",
       "      <th>sum</th>\n",
       "      <th></th>\n",
       "    </tr>\n",
       "    <tr>\n",
       "      <th>family_status</th>\n",
       "      <th></th>\n",
       "      <th></th>\n",
       "      <th></th>\n",
       "    </tr>\n",
       "  </thead>\n",
       "  <tbody>\n",
       "    <tr>\n",
       "      <th>не женат / не замужем</th>\n",
       "      <td>2810</td>\n",
       "      <td>274</td>\n",
       "      <td>0.097509</td>\n",
       "    </tr>\n",
       "    <tr>\n",
       "      <th>гражданский брак</th>\n",
       "      <td>4150</td>\n",
       "      <td>388</td>\n",
       "      <td>0.093494</td>\n",
       "    </tr>\n",
       "    <tr>\n",
       "      <th>женат / замужем</th>\n",
       "      <td>12338</td>\n",
       "      <td>931</td>\n",
       "      <td>0.075458</td>\n",
       "    </tr>\n",
       "    <tr>\n",
       "      <th>в разводе</th>\n",
       "      <td>1195</td>\n",
       "      <td>85</td>\n",
       "      <td>0.071130</td>\n",
       "    </tr>\n",
       "    <tr>\n",
       "      <th>вдовец / вдова</th>\n",
       "      <td>959</td>\n",
       "      <td>63</td>\n",
       "      <td>0.065693</td>\n",
       "    </tr>\n",
       "  </tbody>\n",
       "</table>\n",
       "</div>"
      ],
      "text/plain": [
       "                        debt           part\n",
       "                       count  sum          \n",
       "family_status                              \n",
       "не женат / не замужем   2810  274  0.097509\n",
       "гражданский брак        4150  388  0.093494\n",
       "женат / замужем        12338  931  0.075458\n",
       "в разводе               1195   85  0.071130\n",
       "вдовец / вдова           959   63  0.065693"
      ]
     },
     "execution_count": 40,
     "metadata": {},
     "output_type": "execute_result"
    }
   ],
   "source": [
    "df_final_fam_status = df_final.groupby('family_status').agg({'debt': ['count', 'sum']})\n",
    "df_final_fam_status = df_final.groupby('family_status').agg({'debt': ['count', 'sum']})\n",
    "df_final_fam_status['part'] = df_final_fam_status['debt']['sum'] / df_final_fam_status['debt']['count']\n",
    "df_final_fam_status.sort_values(by=['part'], ascending=False)"
   ]
  },
  {
   "cell_type": "code",
   "execution_count": 41,
   "metadata": {},
   "outputs": [
    {
     "data": {
      "text/html": [
       "<div>\n",
       "<style scoped>\n",
       "    .dataframe tbody tr th:only-of-type {\n",
       "        vertical-align: middle;\n",
       "    }\n",
       "\n",
       "    .dataframe tbody tr th {\n",
       "        vertical-align: top;\n",
       "    }\n",
       "\n",
       "    .dataframe thead tr th {\n",
       "        text-align: left;\n",
       "    }\n",
       "\n",
       "    .dataframe thead tr:last-of-type th {\n",
       "        text-align: right;\n",
       "    }\n",
       "</style>\n",
       "<table border=\"1\" class=\"dataframe\">\n",
       "  <thead>\n",
       "    <tr>\n",
       "      <th></th>\n",
       "      <th colspan=\"5\" halign=\"left\">count</th>\n",
       "    </tr>\n",
       "    <tr>\n",
       "      <th>family_status</th>\n",
       "      <th>в разводе</th>\n",
       "      <th>вдовец / вдова</th>\n",
       "      <th>гражданский брак</th>\n",
       "      <th>женат / замужем</th>\n",
       "      <th>не женат / не замужем</th>\n",
       "    </tr>\n",
       "    <tr>\n",
       "      <th>children_group</th>\n",
       "      <th></th>\n",
       "      <th></th>\n",
       "      <th></th>\n",
       "      <th></th>\n",
       "      <th></th>\n",
       "    </tr>\n",
       "  </thead>\n",
       "  <tbody>\n",
       "    <tr>\n",
       "      <th>двое детей</th>\n",
       "      <td>83</td>\n",
       "      <td>24</td>\n",
       "      <td>355</td>\n",
       "      <td>1582</td>\n",
       "      <td>84</td>\n",
       "    </tr>\n",
       "    <tr>\n",
       "      <th>многодетный</th>\n",
       "      <td>12</td>\n",
       "      <td>7</td>\n",
       "      <td>66</td>\n",
       "      <td>285</td>\n",
       "      <td>10</td>\n",
       "    </tr>\n",
       "    <tr>\n",
       "      <th>нет детей</th>\n",
       "      <td>784</td>\n",
       "      <td>847</td>\n",
       "      <td>2729</td>\n",
       "      <td>7467</td>\n",
       "      <td>2262</td>\n",
       "    </tr>\n",
       "    <tr>\n",
       "      <th>один ребенок</th>\n",
       "      <td>316</td>\n",
       "      <td>81</td>\n",
       "      <td>1000</td>\n",
       "      <td>3004</td>\n",
       "      <td>454</td>\n",
       "    </tr>\n",
       "  </tbody>\n",
       "</table>\n",
       "</div>"
      ],
      "text/plain": [
       "                   count                                                  \\\n",
       "family_status  в разводе вдовец / вдова гражданский брак женат / замужем   \n",
       "children_group                                                             \n",
       "двое детей            83             24              355            1582   \n",
       "многодетный           12              7               66             285   \n",
       "нет детей            784            847             2729            7467   \n",
       "один ребенок         316             81             1000            3004   \n",
       "\n",
       "                                      \n",
       "family_status  не женат / не замужем  \n",
       "children_group                        \n",
       "двое детей                        84  \n",
       "многодетный                       10  \n",
       "нет детей                       2262  \n",
       "один ребенок                     454  "
      ]
     },
     "execution_count": 41,
     "metadata": {},
     "output_type": "execute_result"
    }
   ],
   "source": [
    "df_final.pivot_table(index = ['children_group'], columns='family_status', values = 'debt', aggfunc = {'count'})"
   ]
  },
  {
   "cell_type": "markdown",
   "metadata": {},
   "source": [
    "### Вывод"
   ]
  },
  {
   "cell_type": "markdown",
   "metadata": {},
   "source": [
    "Мы знаем, что клиенты без детей имели меньше \"просрочек\", чем остальные, но интересно, что если рассматривать зависимость между семейным положением и возвратом кредита в срок, то тут лидером-неплательщиком будут свободные (не женат/не замужем) люди. Это значит, что если у клиента есть дети, это совсем не означает, что он женат/замужем.\n",
    "\n",
    "Самые дисциплинированнеы вдовы/вдовцы - 6,56% невозвратов - по сводной таблице, видно, что большой процент таких клиентов не имеют детей, соответсвенно, отсутвие детей и потеря любимого человека делает таких людей внимательными к своим долгам (у них нет моментов, когда они тратят средства на близких людей и с возвратом долго проблем не возникает).\n",
    "\n",
    "Клиенты в разводе (7,11%) и клиенты в официальных отношениях (7,54%) возвращают долги лучше, чем в среднем по всей выборке (8,12%).\n",
    "\n",
    "Клиенты, которые не оформляли свои отношения или являются не женатыми/не замужними платить не любят 9,34% и 9,75%, соответсвенно. Это большое отклонение от среднего. Нет ответсвенности с оформлением отношений, значит и нет отвественности по срокам погошения долга в срок.\n",
    "\n",
    "Те клиенты, которые сейчас в официальных отношения(женат/замужем) или когда-то были в них (вдовы/вдовцы и разведенные) имеют меньший процент невозвратов, чем те кто официальных оформлений не любят.\n",
    "\n",
    "Зависиость есть - не оформляешь официально отношения, значит и платишь по кредиту хуже."
   ]
  },
  {
   "cell_type": "markdown",
   "metadata": {},
   "source": [
    "- Есть ли зависимость между уровнем дохода и возвратом кредита в срок?"
   ]
  },
  {
   "cell_type": "code",
   "execution_count": 42,
   "metadata": {},
   "outputs": [
    {
     "data": {
      "text/html": [
       "<div>\n",
       "<style scoped>\n",
       "    .dataframe tbody tr th:only-of-type {\n",
       "        vertical-align: middle;\n",
       "    }\n",
       "\n",
       "    .dataframe tbody tr th {\n",
       "        vertical-align: top;\n",
       "    }\n",
       "\n",
       "    .dataframe thead tr th {\n",
       "        text-align: left;\n",
       "    }\n",
       "\n",
       "    .dataframe thead tr:last-of-type th {\n",
       "        text-align: right;\n",
       "    }\n",
       "</style>\n",
       "<table border=\"1\" class=\"dataframe\">\n",
       "  <thead>\n",
       "    <tr>\n",
       "      <th></th>\n",
       "      <th colspan=\"2\" halign=\"left\">debt</th>\n",
       "      <th>part</th>\n",
       "    </tr>\n",
       "    <tr>\n",
       "      <th></th>\n",
       "      <th>count</th>\n",
       "      <th>sum</th>\n",
       "      <th></th>\n",
       "    </tr>\n",
       "    <tr>\n",
       "      <th>income_group</th>\n",
       "      <th></th>\n",
       "      <th></th>\n",
       "      <th></th>\n",
       "    </tr>\n",
       "  </thead>\n",
       "  <tbody>\n",
       "    <tr>\n",
       "      <th>выше среднего</th>\n",
       "      <td>3494</td>\n",
       "      <td>322</td>\n",
       "      <td>0.092158</td>\n",
       "    </tr>\n",
       "    <tr>\n",
       "      <th>средний</th>\n",
       "      <td>3656</td>\n",
       "      <td>316</td>\n",
       "      <td>0.086433</td>\n",
       "    </tr>\n",
       "    <tr>\n",
       "      <th>низкий</th>\n",
       "      <td>3575</td>\n",
       "      <td>294</td>\n",
       "      <td>0.082238</td>\n",
       "    </tr>\n",
       "    <tr>\n",
       "      <th>очень низкий</th>\n",
       "      <td>3576</td>\n",
       "      <td>285</td>\n",
       "      <td>0.079698</td>\n",
       "    </tr>\n",
       "    <tr>\n",
       "      <th>высокий</th>\n",
       "      <td>3575</td>\n",
       "      <td>278</td>\n",
       "      <td>0.077762</td>\n",
       "    </tr>\n",
       "    <tr>\n",
       "      <th>очень высокий</th>\n",
       "      <td>3576</td>\n",
       "      <td>246</td>\n",
       "      <td>0.068792</td>\n",
       "    </tr>\n",
       "  </tbody>\n",
       "</table>\n",
       "</div>"
      ],
      "text/plain": [
       "               debt           part\n",
       "              count  sum          \n",
       "income_group                      \n",
       "выше среднего  3494  322  0.092158\n",
       "средний        3656  316  0.086433\n",
       "низкий         3575  294  0.082238\n",
       "очень низкий   3576  285  0.079698\n",
       "высокий        3575  278  0.077762\n",
       "очень высокий  3576  246  0.068792"
      ]
     },
     "execution_count": 42,
     "metadata": {},
     "output_type": "execute_result"
    }
   ],
   "source": [
    "df_final_income = df_final.groupby('income_group').agg({'debt': ['count', 'sum']})\n",
    "df_final_income = df_final.groupby('income_group').agg({'debt': ['count', 'sum']})\n",
    "df_final_income['part'] = df_final_income['debt']['sum'] / df_final_income['debt']['count']\n",
    "df_final_income.sort_values(by=['part'], ascending=False)"
   ]
  },
  {
   "cell_type": "markdown",
   "metadata": {},
   "source": [
    "### Вывод"
   ]
  },
  {
   "cell_type": "markdown",
   "metadata": {},
   "source": [
    "Мы выделили 6 групп по уровню дохода.\n",
    "\n",
    "И, конечно, взаимосвязь есть. \n",
    "Клиенты с высоким и очень высоким доходом ведут себя добросовествно - 7,78% и 6,88% невозвратов в срок, здесь видно, что с ростом дохода, когда доход уже высокий, процент невозврата снижается.\n",
    "\n",
    "Клиенты с очень низким доходом возвращают кредит лучше, чем в среднем по выборке - 7,97%. У таких клиентов и так проблем хватает и они не жалают сталкиваться с проблемами от невозврата кредита в срок (общение с приставами им еще не хватало или, не дай бог, исполнительного производства). Вот почему много кредитных рекламных компаний ориентировано на покупку чего-то не очень дорогого, как раз подходящего для клиентов с очень низким доходом. Подсаживаем Россию на кредитную иглу, ведь бедные хорошо платят по счетам.\n",
    "\n",
    "Клиенты с низким доходом, тоже недалеко от среднего - 8,22%, но уже выше. И тут прослеживается взаимосвязь - от очень низкого дохода до дохода выше среднего процент невозврата равномерно растет (8,2% - 8,6% - 9,2%), значит у клиентов с ростом дохода появляются потребности в дорогом жилье/автомобиле, но они не рассчитывают свои силы и не могут платить в срок за свой новенький мерседес (хороший понт дороже денег). \n",
    "\n",
    "И когда доход уже становится высоким, то у клиента встают мозги на место и он платит по кредиту хорошо.\n",
    "\n"
   ]
  },
  {
   "cell_type": "markdown",
   "metadata": {},
   "source": [
    "- Как разные цели кредита влияют на его возврат в срок?"
   ]
  },
  {
   "cell_type": "code",
   "execution_count": 43,
   "metadata": {},
   "outputs": [
    {
     "data": {
      "text/html": [
       "<div>\n",
       "<style scoped>\n",
       "    .dataframe tbody tr th:only-of-type {\n",
       "        vertical-align: middle;\n",
       "    }\n",
       "\n",
       "    .dataframe tbody tr th {\n",
       "        vertical-align: top;\n",
       "    }\n",
       "\n",
       "    .dataframe thead tr th {\n",
       "        text-align: left;\n",
       "    }\n",
       "\n",
       "    .dataframe thead tr:last-of-type th {\n",
       "        text-align: right;\n",
       "    }\n",
       "</style>\n",
       "<table border=\"1\" class=\"dataframe\">\n",
       "  <thead>\n",
       "    <tr>\n",
       "      <th></th>\n",
       "      <th colspan=\"2\" halign=\"left\">debt</th>\n",
       "      <th>part</th>\n",
       "    </tr>\n",
       "    <tr>\n",
       "      <th></th>\n",
       "      <th>count</th>\n",
       "      <th>sum</th>\n",
       "      <th></th>\n",
       "    </tr>\n",
       "    <tr>\n",
       "      <th>purpose_category</th>\n",
       "      <th></th>\n",
       "      <th></th>\n",
       "      <th></th>\n",
       "    </tr>\n",
       "  </thead>\n",
       "  <tbody>\n",
       "    <tr>\n",
       "      <th>автомобиль</th>\n",
       "      <td>4306</td>\n",
       "      <td>403</td>\n",
       "      <td>0.093590</td>\n",
       "    </tr>\n",
       "    <tr>\n",
       "      <th>образование</th>\n",
       "      <td>4013</td>\n",
       "      <td>370</td>\n",
       "      <td>0.092200</td>\n",
       "    </tr>\n",
       "    <tr>\n",
       "      <th>свадьба</th>\n",
       "      <td>2323</td>\n",
       "      <td>186</td>\n",
       "      <td>0.080069</td>\n",
       "    </tr>\n",
       "    <tr>\n",
       "      <th>недвижимость</th>\n",
       "      <td>6350</td>\n",
       "      <td>474</td>\n",
       "      <td>0.074646</td>\n",
       "    </tr>\n",
       "    <tr>\n",
       "      <th>ремонт</th>\n",
       "      <td>4460</td>\n",
       "      <td>308</td>\n",
       "      <td>0.069058</td>\n",
       "    </tr>\n",
       "  </tbody>\n",
       "</table>\n",
       "</div>"
      ],
      "text/plain": [
       "                  debt           part\n",
       "                 count  sum          \n",
       "purpose_category                     \n",
       "автомобиль        4306  403  0.093590\n",
       "образование       4013  370  0.092200\n",
       "свадьба           2323  186  0.080069\n",
       "недвижимость      6350  474  0.074646\n",
       "ремонт            4460  308  0.069058"
      ]
     },
     "execution_count": 43,
     "metadata": {},
     "output_type": "execute_result"
    }
   ],
   "source": [
    "df_final_purpose = df_final.groupby('purpose_category').agg({'debt': ['count', 'sum']})\n",
    "df_final_purpose = df_final.groupby('purpose_category').agg({'debt': ['count', 'sum']})\n",
    "df_final_purpose['part'] = df_final_purpose['debt']['sum'] / df_final_purpose['debt']['count']\n",
    "df_final_purpose.sort_values(by=['part'], ascending=False)"
   ]
  },
  {
   "cell_type": "markdown",
   "metadata": {},
   "source": [
    "### Вывод"
   ]
  },
  {
   "cell_type": "markdown",
   "metadata": {},
   "source": [
    "Автомобилисты любят кататься, а за машину платить не очень - 9,4% из этой выборки имели долги по кредиту. Может быть это связано с тем, что сейчас часто покупают машины молодые люди - ответсвенности мало (нет ни детей ни семьи), недвижимость и свадьба пока не нужны, а машина самое то.\n",
    "\n",
    "Образование - 9,2% - сокрее всего на образование берут кредит молодые люди (студенты) и у них небольшой доход, что приводит их к нестабильному графику выплат по кредиту.\n",
    "\n",
    "Дальше в порядке жизненного цикла человека рассположились - свадьба, недвижимость и ремонт. И чем дальше идет жизненный цикл, тем меньше сбоев по оплате долгов. Человек взрослеет, играет свадьбу (8% неплательщиков), потом покупает квартиру (7,46% неплательщиков) и потом делает ремонт (6,9% неплательщиков).\n",
    "\n"
   ]
  },
  {
   "cell_type": "markdown",
   "metadata": {},
   "source": [
    "### Шаг 4. Общий вывод"
   ]
  },
  {
   "cell_type": "markdown",
   "metadata": {},
   "source": [
    "##### Общая информация\n",
    "Целью нашего проекта было произвести анализ данных о клиентах банка для того, чтобы понять влияет ли семейное положение и количество детей на факт погашения кредита в срок, а после применить выводы анализа для построения кредитного скорринга (посмотрим, как распределяться scores среди участников).\n",
    "\n",
    "На входе мы имеем информацию о клиентах банка и об их кредитной истории:\n",
    "* children — количество детей в семье;\n",
    "\n",
    "* days_employed — общий трудовой стаж в днях;\n",
    "\n",
    "* dob_years — возраст клиента в годах;\n",
    "\n",
    "* education — уровень образования клиента;\n",
    "\n",
    "* education_id — идентификатор уровня образования;\n",
    "\n",
    "* family_status — семейное положение;\n",
    "\n",
    "* family_status_id — идентификатор семейного положения;\n",
    "\n",
    "* gender — пол клиента;\n",
    "\n",
    "* income_type — тип занятости;\n",
    "\n",
    "* debt — имел ли задолженность по возврату кредитов;\n",
    "\n",
    "* total_income — ежемесячный доход;\n",
    "\n",
    "* purpose — цель получения кредита.\n",
    "\n",
    "\n",
    "На стадии ознакомления с данными было выявлено, что данные о трудовом стаже клиента в днях (days_employed) - ошибочны, в столбце есть отрицательные значения, а также значения с очень большим количеством дней. Для поставленной задачи эти данные не требуеются, в данном анализе они использоваться не будут, но в дальнейшем требуется проследить есть ли проблемы при выгрузке этой информации из базы данных (исключить техническую проблему или понять каким образом закодированы эти значения).\n",
    "\n",
    "##### Подготовка данных. Поиск и устранение ошибок в данных.\n",
    "Были обнаружены пропуски в столбцах days_employed и total_income, одновременно пропуски в 2174 строках. Предположение о том, что это строки безработных или не имеющих стажа клиентов, было проверено и опровергнуто, т.к. вид деятельности по пропущенным значениям - пенсионер, госслужащий, компаньон, сотрудник, предприниматель. Скорее всего эти данные не предоставил сам клиент или банк не имеет сведений о доходах данных клиентов, т.к. клиент не обслуживается в этом банке (т.е 10% клиентов берут кредит в банке, в котором не обслуживаются). По сгруппированным по полу, типу дохода и уровню образованию данным мы рассчитали медианные значения и заполнили пропуски о ежемесячном доходе. На одного клиента мы не смогли рассчитать медианное значение уровня дохода и было принято решение исключить строку из общей выборки - на общий итог информация об одном клиенте не повлияет.\n",
    "\n",
    "Ошибочные данные были также найдены в количестве детей клиента. Этот столбец мы не могли оставить без исправлений - данные очень сильно нужны нам для проведения анализа. Были исправлены отрицательные значения на положительные. У 76 клиентов было по 20 детей, предположив, что эта ошибка при заполнении анкеты клиента (\"залипание\" клавиш на клавиатуре) и сравненив эту информацию с клиентами у которых чеверо детей (таких строк было 50), мы изменили 20 на 2 детей.\n",
    "\n",
    "В столбце с возврастом клиента были нулевые значения - это ошибка, но на решение поставленной задачи эти данные не влияют. Мы решили без группировки заполнить нули медианами по столбцу, всего таких нулей было 101 (около 0.5% от всех клиентов).\n",
    "\n",
    "В столбце с полем мы обноружили значение XNA у одного клиента, но так как мы не планируем анализировать возврат кредита по половому признаку, то исходя из уровня дохода (203905) предположим, что это мужчина и заменим значение в gender на M.\n",
    "\n",
    "Далее мы приступили к поиску и удалению дубликатов. В первую очередь привели в одному регистру значения по полю образование. После этого применили метод по удалению полностью дублированных строк, всего удалено 72 дублированные строки. Причиной возникновения дубликатов может являться то, что клиент направлял несколько заявок на кредит (нажал в банковском приложении два раза на кнопку \"подать заявку на кредит\"), ведь как мы предполагали данных о количестве детей - клавиатура могла \"залипать\".\n",
    "\n",
    "Для удобства работы мы изменили тип данных в столбце с доходом на цельночисленный.\n",
    "\n",
    "\n",
    "##### Лемматизация целей кредита.\n",
    "Просмотрев уникальные значения целей кредита, мы применили метод лемматизации по этому полю и выявили основные цели кредита. На этапе лемматизации уже было видно на какие категории можно будет поделить поле с целью кредита - покупка недвижимости, покупка автомобиля, заё на проведение свадьбы, оплата образования, деньги на ремонт.\n",
    "\n",
    "##### Выделение основных категорий замщиков для проведения анализа.\n",
    "В первую очередь мы \"разбили\" клиентов по цели получения кредита:\n",
    "\n",
    "* Покупка недвижимости - 6350 клиентов;\n",
    "* Проведение ремонта - 4460 клиентов;\n",
    "* Покупка автомобиля - 4306 клиентов;\n",
    "* Деньги на образование - 4013 клиентов;\n",
    "* Проведение свадьбы - 2323 клиентов.\n",
    "\n",
    "Сделали группы по количеству детей:\n",
    "* Без детей - 14089 клиентов;\n",
    "* Один ребенок в семье - 2128 клиентов;\n",
    "* Два ребенка в семье - 2128 клиентов;\n",
    "* Многодетные - 380 клиентов.\n",
    "\n",
    "По уровню дохода мы сделали равноразмерные группы, так как был очень большой разрыв от минимального дохода по столбцу до макисмального - в дальнейшем это позволит нам точнее рассмотреть зависимость между уровнем дохода и сроком возврата кредита в срок. Всего 6 групп:\n",
    "* очень низкий - 3576 клиентов;\n",
    "* низкий - 3575;\n",
    "* средний - 3656;\n",
    "* выше среднего - 3494;\n",
    "* высокий - 3575;\n",
    "* очень высокий - 3576.\n",
    "\n",
    "### Результат исследования.\n",
    "После предобработки данных мы получили **21452 клиентов**, которые подойдут нам для исследования зависимостей. Из них **8,12%** имели задолженности по выплате кредитов - это будет точкой для понимания последующего анализа.\n",
    "\n",
    "###### Есть ли зависимость между наличием детей и возвратом кредита в срок?\n",
    "Да, зависимость есть. Меньше всего проблем с возвратом долга у клиентов без детей - только **7,55%** из этой группы имели долги по кредиту - нет детей, нет долгов, можно платить за себя любимого=). Интересный факт, что если клиент является многодетным (3 и более детей), то возвращает кредит он лучше, чем клиенты с одним и двумя детьми - у мнгодетных **8,15%** невозвратов, что очень близко к среднему по всей выборке. Видимо, у многодетных с ростом числа детей растет жизненная ответственность - нельзя рисковать и не отдавать кредит, когда под твоим \"крылом\" куча детей. **Разница в процентах между клиентами без детей и клиентами с двумя детьми - 2%, разница существенная и поэтому мы смело можем утверждать, что зависимость есть.** У клиентов с одним ребенком - **9,16%** невозвратов, у клиентов с двумя - **9,49%**, это близкие по показателям группы, но при наличие второго ребенка ситуация с возвратом долго усложняется.\n",
    "\n",
    "###### Есть ли зависимость между семейным положением и возвратом кредита в срок?\n",
    "Мы знаем, что клиенты без детей имели меньше \"просрочек\", чем остальные, но интересно, что если рассматривать зависимость между семейным положением и возвратом кредита в срок, то тут лидером-неплательщиком будут свободные (не женат/не замужем) люди. Это значит, что если у клиента есть дети, это совсем не означает, что он женат/замужем.\n",
    "\n",
    "Самые дисциплинированнеы вдовы/вдовцы - **6,56%** невозвратов - по сводной таблице, видно, что большой процент таких клиентов не имеют детей, соответсвенно, отсутвие детей и потеря любимого человека делает таких людей внимательными к своим долгам (у них нет моментов, когда они тратят средства на близких людей и с возвратом долго проблем не возникает).\n",
    "\n",
    "Клиенты в разводе (**7,11%**) и клиенты в официальных отношениях (**7,54%**) возвращают долги лучше, чем в среднем по всей выборке (**8,12%**).\n",
    "\n",
    "Клиенты, которые не оформляли свои отношения или являются не женатыми/не замужними платить не любят **9,34% и 9,75%**, соответсвенно. Это большое отклонение от среднего. Нет ответсвенности с оформлением отношений, значит и нет отвественности по срокам погошения долга в срок.\n",
    "\n",
    "Те клиенты, которые сейчас в официальных отношения(женат/замужем) или когда-то были в них (вдовы/вдовцы и разведенные) имеют меньший процент невозвратов, чем те кто официальных оформлений не любят.\n",
    "\n",
    "**Зависиость есть - не оформляешь официально отношения, значит и платишь по кредиту хуже.**\n",
    "\n",
    "###### Есть ли зависимость между уровнем дохода и возвратом кредита в срок?\n",
    "Мы выделили 6 групп по уровню дохода.\n",
    "\n",
    "И, конечно, взаимосвязь есть. Клиенты с высоким и очень высоким доходом ведут себя добросовествно - **7,78%** и **6,88%** невозвратов в срок, здесь видно, что с ростом дохода, когда доход уже высокий, процент невозврата снижается.\n",
    "\n",
    "Клиенты с очень низким доходом возвращают кредит лучше, чем в среднем по выборке - **7,97%**. У таких клиентов и так проблем хватает и они не жалают сталкиваться с проблемами от невозврата кредита в срок (общение с приставами им еще не хватало или, не дай бог, исполнительного производства). Вот почему много кредитных рекламных компаний ориентировано на покупку чего-то не очень дорогого, как раз подходящего для клиентов с очень низким доходом. Клиенты с очень низким доходом хорошо платят по счетам.\n",
    "\n",
    "Клиенты с низким доходом, тоже недалеко от среднего - **8,22%**, но уже выше. **И тут прослеживается взаимосвязь - от очень низкого дохода до дохода выше среднего процент невозврата равномерно растет (8,2% - 8,6% - 9,2%)**, значит у клиентов с ростом дохода появляются потребности в дорогом жилье/автомобиле, но они не рассчитывают свои силы и не могут платить в срок за свой новенький мерседес (хороший понт дороже денег).\n",
    "\n",
    "И когда доход уже становится очень высоким, то у клиента нет проблем с оплатой долга, теперь кредит - это инструмент, а не потребность.\n",
    "\n",
    "###### Как разные цели кредита влияют на его возврат в срок?\n",
    "**Автомобилисты** любят кататься, а за машину платить не очень - **9,4%** из этой выборки имели долги по кредиту. Может быть это связано с тем, что сейчас часто покупают машины молодые люди - ответсвенности мало (нет ни детей ни семьи), недвижимость и свадьба пока не нужны, а машина самое то.\n",
    "\n",
    "**Образование - 9,2%** - сокрее всего на образование берут кредит молодые люди (студенты) и у них небольшой доход, что приводит их к нестабильному графику выплат по кредиту.\n",
    "\n",
    "Дальше в порядке жизненного цикла человека рассположились - свадьба, недвижимость и ремонт. И **чем дальше идет жизненный цикл, тем меньше сбоев по оплате долгов.** Человек взрослеет, играет **свадьбу** (**8%** неплательщиков), потом покупает **квартиру** (**7,46%** неплательщиков) и потом делает **ремонт** (**6,9%** неплательщиков).\n",
    "\n",
    "### Итог\n",
    "Мы получили необходимую информацию для построения модели кредитного скоринга, теперь банк может выделять клиентов, которым можно делать ставку по кредиту меньше, а с какими клиентами необходимо перестраховаться и \"подкуртить\" процент повыше. \n",
    "\n",
    "Применять полученные выводы можно для построения рекламной компании банка, если банк имеет хороший инструмент по контролю должников, то можно сделать упор на \"рискованные\" категории клиентов, но дать процент на кредит выше, но стоит помнить, что с увелечением прибыли риски в таких ситуация тоже растут.\n",
    "\n",
    "Стоит также дать рекомендацию менеджерам по работе с клиентами банка:\n",
    "Банку всегда стоит относится внимательно к сбору информации о клиентах и к заполнению анкет, а пока ошибки в данных встречаются и если их исключить, то исследования будут точнее, будет возможность проследить взаимосвязь между рабочем стажем и возвратом кредита в срок.\n",
    "\n",
    "Спасибо за уделенное время!\n",
    "\n"
   ]
  },
  {
   "cell_type": "markdown",
   "metadata": {},
   "source": [
    "### Чек-лист готовности проекта\n",
    "\n",
    "Поставьте 'x' в выполненных пунктах. Далее нажмите Shift+Enter."
   ]
  },
  {
   "cell_type": "markdown",
   "metadata": {},
   "source": [
    "- [x]  открыт файл;\n",
    "- [x]  файл изучен;\n",
    "- [x]  определены пропущенные значения;\n",
    "- [x]  заполнены пропущенные значения;\n",
    "- [x]  есть пояснение, какие пропущенные значения обнаружены;\n",
    "- [x]  описаны возможные причины появления пропусков в данных;\n",
    "- [x]  объяснено, по какому принципу заполнены пропуски;\n",
    "- [x]  заменен вещественный тип данных на целочисленный;\n",
    "- [x]  есть пояснение, какой метод используется для изменения типа данных и почему;\n",
    "- [x]  удалены дубликаты;\n",
    "- [x]  есть пояснение, какой метод используется для поиска и удаления дубликатов;\n",
    "- [x]  описаны возможные причины появления дубликатов в данных;\n",
    "- [x]  выделены леммы в значениях столбца с целями получения кредита;\n",
    "- [x]  описан процесс лемматизации;\n",
    "- [x]  данные категоризированы;\n",
    "- [x]  есть объяснение принципа категоризации данных;\n",
    "- [x]  есть ответ на вопрос: \"Есть ли зависимость между наличием детей и возвратом кредита в срок?\";\n",
    "- [x]  есть ответ на вопрос: \"Есть ли зависимость между семейным положением и возвратом кредита в срок?\";\n",
    "- [x]  есть ответ на вопрос: \"Есть ли зависимость между уровнем дохода и возвратом кредита в срок?\";\n",
    "- [x]  есть ответ на вопрос: \"Как разные цели кредита влияют на его возврат в срок?\";\n",
    "- [x]  в каждом этапе есть выводы;\n",
    "- [x]  есть общий вывод."
   ]
  }
 ],
 "metadata": {
  "kernelspec": {
   "display_name": "Python 3",
   "language": "python",
   "name": "python3"
  },
  "language_info": {
   "codemirror_mode": {
    "name": "ipython",
    "version": 3
   },
   "file_extension": ".py",
   "mimetype": "text/x-python",
   "name": "python",
   "nbconvert_exporter": "python",
   "pygments_lexer": "ipython3",
   "version": "3.8.5"
  }
 },
 "nbformat": 4,
 "nbformat_minor": 2
}
